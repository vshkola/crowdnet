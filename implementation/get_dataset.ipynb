{
 "cells": [
  {
   "cell_type": "code",
   "execution_count": null,
   "metadata": {
    "collapsed": true,
    "deletable": true,
    "editable": true
   },
   "outputs": [],
   "source": [
    "import tensorflow as tf\n",
    "import numpy as np\n",
    "import threading\n",
    "\n",
    "r = np.arange(0.0,100003.0)\n",
    "raw_data = np.dstack((r,r,r,r))[0]\n",
    "raw_target = np.array([[1,0,0]] * 100003)"
   ]
  },
  {
   "cell_type": "code",
   "execution_count": null,
   "metadata": {
    "collapsed": false,
    "deletable": true,
    "editable": true
   },
   "outputs": [],
   "source": [
    "queue_input_data = tf.placeholder(tf.float32, shape=[20, 4])\n",
    "queue_input_target = tf.placeholder(tf.float32, shape=[20, 3])\n",
    "\n",
    "queue = tf.FIFOQueue(capacity=50, dtypes=[tf.float32, tf.float32], shapes=[[4], [3]])\n",
    "\n",
    "enqueue_op = queue.enqueue_many([queue_input_data, queue_input_target])\n",
    "dequeue_op = queue.dequeue()"
   ]
  },
  {
   "cell_type": "code",
   "execution_count": null,
   "metadata": {
    "collapsed": false,
    "deletable": true,
    "editable": true
   },
   "outputs": [],
   "source": [
    "# capacity = min_after_dequeue + (num_threads + a small safety margin) * batch_size\n",
    "data_batch, target_batch = tf.train.batch(dequeue_op, batch_size=15, capacity=40)"
   ]
  },
  {
   "cell_type": "code",
   "execution_count": null,
   "metadata": {
    "collapsed": false,
    "deletable": true,
    "editable": true
   },
   "outputs": [],
   "source": [
    "def enqueue(sess):\n",
    "    under = 0\n",
    "    max = len(raw_data)\n",
    "    while True:\n",
    "        print(\"starting to write into queue\")\n",
    "        upper = under + 20\n",
    "        print(\"try to enqueue \", under, \" to \", upper)\n",
    "        if upper <= max:\n",
    "            curr_data = raw_data[under:upper]\n",
    "            curr_target = raw_target[under:upper]\n",
    "            under = upper\n",
    "        else:\n",
    "            rest = upper - max\n",
    "            curr_data = np.concatenate((raw_data[under:max], raw_data[0:rest]))\n",
    "            curr_target = np.concatenate((raw_target[under:max], raw_target[0:rest]))\n",
    "            under = rest\n",
    "\n",
    "        sess.run(enqueue_op, feed_dict={queue_input_data: curr_data,\n",
    "                                    queue_input_target: curr_target})\n",
    "        print(\"added to the queue\")\n",
    "    print(\"finished enqueueing\")\n",
    "\n",
    "sess = tf.Session()\n",
    "enqueue_thread = threading.Thread(target=enqueue, args=[sess])\n",
    "enqueue_thread.isDaemon()\n",
    "enqueue_thread.start()\n",
    "\n",
    "coord = tf.train.Coordinator()\n",
    "threads = tf.train.start_queue_runners(coord=coord, sess=sess)"
   ]
  },
  {
   "cell_type": "code",
   "execution_count": null,
   "metadata": {
    "collapsed": false,
    "deletable": true,
    "editable": true
   },
   "outputs": [],
   "source": [
    "run_options = tf.RunOptions(timeout_in_ms=4000)\n",
    "curr_data_batch, curr_target_batch = sess.run([data_batch, target_batch], options=run_options)\n",
    "print(curr_data_batch)"
   ]
  },
  {
   "cell_type": "code",
   "execution_count": null,
   "metadata": {
    "collapsed": false,
    "deletable": true,
    "editable": true
   },
   "outputs": [],
   "source": [
    "from PIL.Image import Image\n",
    "\n",
    "filename_queue = tf.train.string_input_producer(['ds/592b21faac86d83e39276068.jpg']) #  list of files to read\n",
    "\n",
    "reader = tf.WholeFileReader()\n",
    "key, value = reader.read(filename_queue)\n",
    "\n",
    "my_img = tf.image.decode_png(value) # use png or jpg decoder based on your files.\n",
    "\n",
    "init_op = tf.global_variables_initializer()\n",
    "sess = tf.InteractiveSession()\n",
    "\n",
    "with sess.as_default() as sess:\n",
    "    sess.run(init_op)\n",
    "\n",
    "# Start populating the filename queue.\n",
    "\n",
    "coord = tf.train.Coordinator()\n",
    "threads = tf.train.start_queue_runners(coord=coord)\n",
    "\n",
    "for i in range(1): #length of your filename list\n",
    "    image = my_img.eval() #here is your image Tensor :) \n",
    "\n",
    "print(image.shape)\n",
    "Image.show(Image.fromstring(np.asarray(image)))\n",
    "\n",
    "coord.request_stop()\n",
    "coord.join(threads)"
   ]
  },
  {
   "cell_type": "code",
   "execution_count": null,
   "metadata": {
    "collapsed": false,
    "deletable": true,
    "editable": true
   },
   "outputs": [],
   "source": [
    "%matplotlib inline\n",
    "\n",
    "import numpy as np\n",
    "import skimage.io as io\n",
    "\n",
    "cat_img = io.imread('ds/592b21faac86d83e39276068.jpg')\n",
    "io.imshow(cat_img)"
   ]
  },
  {
   "cell_type": "code",
   "execution_count": null,
   "metadata": {
    "collapsed": false,
    "deletable": true,
    "editable": true
   },
   "outputs": [],
   "source": [
    "cat_img."
   ]
  },
  {
   "cell_type": "code",
   "execution_count": null,
   "metadata": {
    "collapsed": false,
    "deletable": true,
    "editable": true
   },
   "outputs": [],
   "source": [
    "# Let's convert the picture into string representation\n",
    "# using the ndarray.tostring() function \n",
    "cat_string = cat_img.tostring()\n",
    "cat_string"
   ]
  },
  {
   "cell_type": "code",
   "execution_count": null,
   "metadata": {
    "collapsed": true,
    "deletable": true,
    "editable": true
   },
   "outputs": [],
   "source": [
    "# Now let's convert the string back to the image\n",
    "# Important: the dtype should be specified\n",
    "# otherwise the reconstruction will be errorness\n",
    "# Reconstruction is 1d, so we need sizes of image\n",
    "# to fully reconstruct it.\n",
    "reconstructed_cat_1d = np.fromstring(cat_string, dtype=np.uint8)"
   ]
  },
  {
   "cell_type": "code",
   "execution_count": null,
   "metadata": {
    "collapsed": false,
    "deletable": true,
    "editable": true
   },
   "outputs": [],
   "source": [
    "reconstructed_cat_1d"
   ]
  },
  {
   "cell_type": "code",
   "execution_count": null,
   "metadata": {
    "collapsed": true,
    "deletable": true,
    "editable": true
   },
   "outputs": [],
   "source": [
    "# Here we reshape the 1d representation\n",
    "# This is the why we need to store the sizes of image\n",
    "# along with its serialized representation.\n",
    "reconstructed_cat_img = reconstructed_cat_1d.reshape(cat_img.shape)"
   ]
  },
  {
   "cell_type": "code",
   "execution_count": null,
   "metadata": {
    "collapsed": false,
    "deletable": true,
    "editable": true
   },
   "outputs": [],
   "source": [
    "reconstructed_cat_img"
   ]
  },
  {
   "cell_type": "code",
   "execution_count": null,
   "metadata": {
    "collapsed": false,
    "deletable": true,
    "editable": true
   },
   "outputs": [],
   "source": [
    "type(cat_img)"
   ]
  },
  {
   "cell_type": "code",
   "execution_count": null,
   "metadata": {
    "collapsed": false,
    "deletable": true,
    "editable": true
   },
   "outputs": [],
   "source": [
    "# Let's check if we got everything right and compare\n",
    "# reconstructed array to the original one.\n",
    "np.allclose(cat_img, reconstructed_cat_img)"
   ]
  },
  {
   "cell_type": "code",
   "execution_count": null,
   "metadata": {
    "collapsed": true,
    "deletable": true,
    "editable": true
   },
   "outputs": [],
   "source": [
    "filename_pairs = ['ds/5919b823f540530d0e75a884.jpg', 'ds/59097f6aac86d80ed56b301a.jpg', 'ds/591f0f297d1a9783237e04e3.jpg']"
   ]
  },
  {
   "cell_type": "code",
   "execution_count": null,
   "metadata": {
    "collapsed": true,
    "deletable": true,
    "editable": true
   },
   "outputs": [],
   "source": [
    "%matplotlib inline\n",
    "\n",
    "# Important: We are using PIL to read .png files later.\n",
    "# This was done on purpose to read indexed png files\n",
    "# in a special way -- only indexes and not map the indexes\n",
    "# to actual rgb values. This is specific to PASCAL VOC\n",
    "# dataset data. If you don't want thit type of behaviour\n",
    "# consider using skimage.io.imread()\n",
    "from PIL import Image\n",
    "import numpy as np\n",
    "import skimage.io as io\n",
    "import tensorflow as tf\n",
    "\n",
    "\n",
    "def _bytes_feature(value):\n",
    "    return tf.train.Feature(bytes_list=tf.train.BytesList(value=[value]))\n",
    "\n",
    "def _int64_feature(value):\n",
    "    return tf.train.Feature(int64_list=tf.train.Int64List(value=[value]))\n",
    "\n",
    "tfrecords_filename = 'pascal_voc_segmentation.tfrecords'\n",
    "\n",
    "writer = tf.python_io.TFRecordWriter(tfrecords_filename)\n",
    "\n",
    "# Let's collect the real images to later on compare\n",
    "# to the reconstructed ones\n",
    "original_images = []\n",
    "\n",
    "for img_path in filename_pairs:\n",
    "    img = np.array(Image.open(img_path))\n",
    "    # The reason to store image sizes was demonstrated\n",
    "    # in the previous example -- we have to know sizes\n",
    "    # of images to later read raw serialized string,\n",
    "    # convert to 1d array and convert to respective\n",
    "    # shape that image used to have.\n",
    "    height = img.shape[0]\n",
    "    width = img.shape[1]\n",
    "    # Put in the original images into array\n",
    "    # Just for future check for correctness\n",
    "    original_images.append(img) \n",
    "    img_raw = img.tostring()\n",
    "   \n",
    "    example = tf.train.Example(features=tf.train.Features(feature={\n",
    "        'height': _int64_feature(height),\n",
    "        'width': _int64_feature(width),\n",
    "        'image_raw': _bytes_feature(img_raw)}))\n",
    "    \n",
    "    writer.write(example.SerializeToString())\n",
    "\n",
    "writer.close()"
   ]
  },
  {
   "cell_type": "code",
   "execution_count": null,
   "metadata": {
    "collapsed": true,
    "deletable": true,
    "editable": true
   },
   "outputs": [],
   "source": [
    "reconstructed_images = []\n",
    "\n",
    "record_iterator = tf.python_io.tf_record_iterator(path=tfrecords_filename)\n",
    "\n",
    "for string_record in record_iterator:\n",
    "    example = tf.train.Example()\n",
    "    example.ParseFromString(string_record)\n",
    "    \n",
    "    height = int(example.features.feature['height']\n",
    "                                 .int64_list\n",
    "                                 .value[0])\n",
    "    \n",
    "    width = int(example.features.feature['width']\n",
    "                                .int64_list\n",
    "                                .value[0])\n",
    "    \n",
    "    img_string = (example.features.feature['image_raw']\n",
    "                                  .bytes_list\n",
    "                                  .value[0])\n",
    "    \n",
    "    img_1d = np.fromstring(img_string, dtype=np.uint8)\n",
    "    reconstructed_img = img_1d.reshape((height, width, -1))\n",
    "    reconstructed_images.append(reconstructed_img)"
   ]
  },
  {
   "cell_type": "code",
   "execution_count": null,
   "metadata": {
    "collapsed": false,
    "deletable": true,
    "editable": true
   },
   "outputs": [],
   "source": [
    "# Let's check if the reconstructed images match\n",
    "# the original images\n",
    "for original_pair, reconstructed_pair in zip(original_images, reconstructed_images):\n",
    "    print(np.allclose(original_pair, reconstructed_pair))"
   ]
  },
  {
   "cell_type": "code",
   "execution_count": null,
   "metadata": {
    "collapsed": true,
    "deletable": true,
    "editable": true
   },
   "outputs": [],
   "source": [
    "%matplotlib inline\n",
    "\n",
    "import tensorflow as tf\n",
    "import skimage.io as io\n",
    "\n",
    "IMAGE_HEIGHT = 512\n",
    "IMAGE_WIDTH = 512\n",
    "\n",
    "tfrecords_filename = 'pascal_voc_segmentation.tfrecords'\n",
    "\n",
    "def read_and_decode(filename_queue):\n",
    "    \n",
    "    reader = tf.TFRecordReader()\n",
    "\n",
    "    _, serialized_example = reader.read(filename_queue)\n",
    "\n",
    "    features = tf.parse_single_example(\n",
    "      serialized_example,\n",
    "      # Defaults are not specified since both keys are required.\n",
    "      features={\n",
    "        'height': tf.FixedLenFeature([], tf.int64),\n",
    "        'width': tf.FixedLenFeature([], tf.int64),\n",
    "        'image_raw': tf.FixedLenFeature([], tf.string)\n",
    "        })\n",
    "\n",
    "    # Convert from a scalar string tensor (whose single string has\n",
    "    # length mnist.IMAGE_PIXELS) to a uint8 tensor with shape\n",
    "    # [mnist.IMAGE_PIXELS].\n",
    "    image = tf.decode_raw(features['image_raw'], tf.uint8)\n",
    "    height = tf.cast(features['height'], tf.int32)\n",
    "    width = tf.cast(features['width'], tf.int32)\n",
    "    \n",
    "    image_shape = tf.stack([height, width, 3])\n",
    "    image = tf.reshape(image, image_shape)\n",
    "    \n",
    "    image_size_const = tf.constant((IMAGE_HEIGHT, IMAGE_WIDTH, 3), dtype=tf.int32)\n",
    "    # Random transformations can be put here: right before you crop images\n",
    "    # to predefined size. To get more information look at the stackoverflow\n",
    "    # question linked above.\n",
    "    \n",
    "    resized_image = tf.image.resize_image_with_crop_or_pad(image=image,\n",
    "                                                           target_height=IMAGE_HEIGHT,\n",
    "                                                           target_width=IMAGE_WIDTH)\n",
    "    \n",
    "    \n",
    "    images = tf.train.shuffle_batch([resized_image],\n",
    "                                    batch_size=2,\n",
    "                                    capacity=30,\n",
    "                                    num_threads=2,\n",
    "                                    min_after_dequeue=10)\n",
    "    \n",
    "    return images"
   ]
  },
  {
   "cell_type": "code",
   "execution_count": null,
   "metadata": {
    "collapsed": false,
    "deletable": true,
    "editable": true
   },
   "outputs": [],
   "source": [
    "import tflearn.data_augmentation  \n",
    "from tflearn.data_preprocessing import DataPreprocessing as prep"
   ]
  },
  {
   "cell_type": "code",
   "execution_count": null,
   "metadata": {
    "collapsed": true,
    "deletable": true,
    "editable": true
   },
   "outputs": [],
   "source": [
    "tflearn.data_augmentation.ImageAugmentation"
   ]
  },
  {
   "cell_type": "code",
   "execution_count": null,
   "metadata": {
    "collapsed": false,
    "deletable": true,
    "editable": true
   },
   "outputs": [],
   "source": [
    "filename_queue = tf.train.string_input_producer([tfrecords_filename], num_epochs=10)\n",
    "\n",
    "# Even when reading in multiple threads, share the filename\n",
    "# queue.\n",
    "image = read_and_decode(filename_queue)\n",
    "\n",
    "# The op for initializing the variables.\n",
    "init_op = tf.group(tf.global_variables_initializer(),\n",
    "                   tf.local_variables_initializer())\n",
    "\n",
    "with tf.Session()  as sess:\n",
    "    \n",
    "    sess.run(init_op)\n",
    "    \n",
    "    coord = tf.train.Coordinator()\n",
    "    threads = tf.train.start_queue_runners(coord=coord)\n",
    "    \n",
    "    # Let's read off 3 batches just for example\n",
    "    for i in xrange(3):\n",
    "    \n",
    "        img = sess.run(image)\n",
    "        print(img[0, :, :].shape)\n",
    "        \n",
    "        print('current batch')\n",
    "        \n",
    "        # We selected the batch size of two\n",
    "        # So we should get two image pairs in each batch\n",
    "        # Let's make sure it is random\n",
    "\n",
    "        io.imshow(img[0, :, :])\n",
    "        io.show()\n",
    "        \n",
    "        io.imshow(img[1, :, :])\n",
    "        io.show()\n",
    "    \n",
    "    coord.request_stop()\n",
    "    coord.join(threads)"
   ]
  },
  {
   "cell_type": "code",
   "execution_count": null,
   "metadata": {
    "collapsed": true,
    "deletable": true,
    "editable": true
   },
   "outputs": [],
   "source": [
    "import PIL as Image\n",
    "import numpy as np"
   ]
  },
  {
   "cell_type": "code",
   "execution_count": null,
   "metadata": {
    "collapsed": false,
    "deletable": true,
    "editable": true
   },
   "outputs": [],
   "source": [
    "from keras.preprocessing.image import ImageDataGenerator, array_to_img, img_to_array, load_img\n",
    "\n",
    "datagen = ImageDataGenerator(\n",
    "           rotation_range=40,\n",
    "           width_shift_range=0.2,\n",
    "           height_shift_range=0.2,\n",
    "           shear_range=0.2,\n",
    "           zoom_range=0.2,\n",
    "           horizontal_flip=True,\n",
    "           zca_whitening=True,\n",
    "           zca_epsilon=1e-6,\n",
    "           rescale=True,\n",
    "           vertical_flip=True,\n",
    "           fill_mode='nearest')\n",
    "\n",
    "img = load_img('ds/591f0f297d1a9783237e04e3.jpg')  # this is a PIL image\n",
    "x = img_to_array(img)  # this is a Numpy array with shape (3, 150, 150)\n",
    "x = x.reshape((1,) + x.shape)  # this is a Numpy array with shape (1, 3, 150, 150)\n",
    "# the .flow() command below generates batches of randomly transformed images # and saves the results to the `preview/` directory\n",
    "i=0\n",
    "for batch in datagen.flow(x, batch_size=1, \n",
    "                          save_to_dir='preview', \n",
    "                          save_prefix='test', \n",
    "                          save_format='jpeg'):\n",
    "    check = batch\n",
    "    i += 1\n",
    "    if i > 2:\n",
    "        break  # otherwise the generator would loop indefinitely"
   ]
  },
  {
   "cell_type": "code",
   "execution_count": null,
   "metadata": {
    "collapsed": false,
    "deletable": true,
    "editable": true
   },
   "outputs": [],
   "source": [
    "check.shape"
   ]
  },
  {
   "cell_type": "code",
   "execution_count": null,
   "metadata": {
    "collapsed": false,
    "deletable": true,
    "editable": true
   },
   "outputs": [],
   "source": [
    "from keras.preprocessing.image import ImageDataGenerator\n",
    "from keras.models import Sequential\n",
    "from keras.layers import Conv2D, MaxPooling2D\n",
    "from keras.layers import Activation, Dropout, Flatten, Dense\n",
    "from keras import backend as K\n",
    "\n",
    "\n",
    "# dimensions of our images.\n",
    "img_width, img_height = 150, 150\n",
    "\n",
    "train_data_dir = 'ds/train'\n",
    "validation_data_dir = 'ds/validation'\n",
    "nb_train_samples = 2000\n",
    "nb_validation_samples = 800\n",
    "epochs = 50\n",
    "batch_size = 16\n",
    "\n",
    "if K.image_data_format() == 'channels_first':\n",
    "    input_shape = (3, img_width, img_height)\n",
    "else:\n",
    "    input_shape = (img_width, img_height, 3)\n",
    "\n",
    "model = Sequential()\n",
    "model.add(Conv2D(32, (3, 3), input_shape=input_shape))\n",
    "model.add(Activation('relu'))\n",
    "model.add(MaxPooling2D(pool_size=(2, 2)))\n",
    "\n",
    "model.add(Conv2D(32, (3, 3)))\n",
    "model.add(Activation('relu'))\n",
    "model.add(MaxPooling2D(pool_size=(2, 2)))\n",
    "\n",
    "model.add(Conv2D(64, (3, 3)))\n",
    "model.add(Activation('relu'))\n",
    "model.add(MaxPooling2D(pool_size=(2, 2)))\n",
    "\n",
    "model.add(Flatten())\n",
    "model.add(Dense(64))\n",
    "model.add(Activation('relu'))\n",
    "model.add(Dropout(0.5))\n",
    "model.add(Dense(1))\n",
    "model.add(Activation('sigmoid'))\n",
    "\n",
    "model.compile(loss='binary_crossentropy',\n",
    "              optimizer='rmsprop',\n",
    "              metrics=['accuracy'])\n",
    "\n",
    "# this is the augmentation configuration we will use for training\n",
    "train_datagen = ImageDataGenerator(\n",
    "    rescale=1. / 255,\n",
    "    shear_range=0.2,\n",
    "    zoom_range=0.2,\n",
    "    horizontal_flip=True)\n",
    "\n",
    "# this is the augmentation configuration we will use for testing:\n",
    "# only rescaling\n",
    "test_datagen = ImageDataGenerator(rescale=1. / 255)\n",
    "\n",
    "train_generator = train_datagen.flow_from_directory(\n",
    "    train_data_dir,\n",
    "    target_size=(img_width, img_height),\n",
    "    batch_size=batch_size,\n",
    "    class_mode='binary')\n",
    "\n",
    "validation_generator = test_datagen.flow_from_directory(\n",
    "    validation_data_dir,\n",
    "    target_size=(img_width, img_height),\n",
    "    batch_size=batch_size,\n",
    "    class_mode='binary')\n",
    "\n",
    "model.fit_generator(\n",
    "    train_generator,\n",
    "    steps_per_epoch=nb_train_samples // batch_size,\n",
    "    epochs=epochs,\n",
    "    validation_data=validation_generator,\n",
    "    validation_steps=nb_validation_samples // batch_size)\n",
    "\n",
    "model.save_weights('first_try.h5')"
   ]
  },
  {
   "cell_type": "code",
   "execution_count": null,
   "metadata": {
    "collapsed": true,
    "deletable": true,
    "editable": true
   },
   "outputs": [],
   "source": [
    "epsilon = 1.0e-9\n",
    "def custom_objective(y_true, y_pred):\n",
    "    '''Crossentropy with prior agency binary vector\n",
    "    (1)+-----0.8-----+(1)\n",
    "        \\            /\n",
    "         \\          /\n",
    "          \\----0.2-- \n",
    "         /  ---0.2---\\ \n",
    "        /             \\\n",
    "    (0)+-----0.8-----+(1)\n",
    "    \n",
    "    '''\n",
    "    y_pred = T.clip(y_pred, epsilon, 1.0 - epsilon)\n",
    "    y_pred /= y_pred.sum(axis=-1, keepdims=True)\n",
    "    cce = T.nnet.categorical_crossentropy(y_pred, y_true)\n",
    "    return cce"
   ]
  }
 ],
 "metadata": {
  "kernelspec": {
   "display_name": "Python 2",
   "language": "python",
   "name": "python2"
  },
  "language_info": {
   "codemirror_mode": {
    "name": "ipython",
    "version": 2.0
   },
   "file_extension": ".py",
   "mimetype": "text/x-python",
   "name": "python",
   "nbconvert_exporter": "python",
   "pygments_lexer": "ipython2",
   "version": "2.7.12"
  }
 },
 "nbformat": 4,
 "nbformat_minor": 0
}