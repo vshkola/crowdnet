{
 "cells": [
  {
   "cell_type": "code",
   "execution_count": 2,
   "metadata": {
    "collapsed": true
   },
   "outputs": [],
   "source": [
    "import csv\n",
    "\n",
    "#reader = pd.DataFrame.from_csv(\"dataset_middle.csv\", index_col=\"agent_id\")\n",
    "reader = csv.DictReader(open('dataset_middle.csv'))\n",
    "\n",
    "result = {}\n",
    "for row in reader:\n",
    "    key = row.pop('image_id')\n",
    "    if key in result:\n",
    "        print(\"{} key duplicated\".format(key))\n",
    "    result[key] = row"
   ]
  },
  {
   "cell_type": "code",
   "execution_count": 19,
   "metadata": {},
   "outputs": [
    {
     "data": {
      "text/plain": [
       "'images/test/accepted/59213068d0e96f1af4451f6e'"
      ]
     },
     "execution_count": 19,
     "metadata": {},
     "output_type": "execute_result"
    }
   ],
   "source": [
    "import os\n",
    "\n",
    "long = \"images/test/accepted/59213068d0e96f1af4451f6e.jpg\"\n",
    "os.path.splitext(long)[0]"
   ]
  },
  {
   "cell_type": "code",
   "execution_count": null,
   "metadata": {},
   "outputs": [],
   "source": [
    ""
   ]
  },
  {
   "cell_type": "code",
   "execution_count": 21,
   "metadata": {},
   "outputs": [
    {
     "data": {
      "text/plain": [
       "200000"
      ]
     },
     "execution_count": 21,
     "metadata": {},
     "output_type": "execute_result"
    }
   ],
   "source": [
    "len(result)"
   ]
  },
  {
   "cell_type": "code",
   "execution_count": 6,
   "metadata": {},
   "outputs": [
    {
     "data": {
      "text/plain": [
       "'56910721cd6da1c1478b45fb'"
      ]
     },
     "execution_count": 6,
     "metadata": {},
     "output_type": "execute_result"
    }
   ],
   "source": [
    "result.get(\"592c586d6f62df76fb5c087c\")['agent_id']"
   ]
  },
  {
   "cell_type": "code",
   "execution_count": 24,
   "metadata": {},
   "outputs": [
    {
     "data": {
      "text/plain": [
       "'566547f2e56da1f54b8b4662'"
      ]
     },
     "execution_count": 24,
     "metadata": {},
     "output_type": "execute_result"
    }
   ],
   "source": [
    ""
   ]
  },
  {
   "cell_type": "code",
   "execution_count": 25,
   "metadata": {},
   "outputs": [
    {
     "data": {
      "text/plain": [
       "'59213068d0e96f1af4451f6e'"
      ]
     },
     "execution_count": 25,
     "metadata": {},
     "output_type": "execute_result"
    }
   ],
   "source": [
    "os.path.splitext(os.path.basename(\"images/test/accepted/59213068d0e96f1af4451f6e.jpg\"))[0]"
   ]
  },
  {
   "cell_type": "code",
   "execution_count": 11,
   "metadata": {},
   "outputs": [
    {
     "name": "stdout",
     "output_type": "stream",
     "text": [
      "\n��\u0005\n\u001a\n\u0011image/class/label\u0012\u0005\u001a\u0003\n\u0001\u0001\n\u0016\n\fimage/height\u0012\u0006\u001a\u0004\n\u0002�\u0007\n\u0018\n\fimage/format\u0012\b\n\u0006\n\u0004JPEG\nӌ\u0005\n\rimage/encoded\u0012��\u0005\n��\u0005\n��\u0005����\u0000�\u0000\u0006\u0004\u0005\u0006\u0005\u0004\u0006\u0006\u0005\u0006\u0007\u0007\u0006\b\n\u0010\n\n\t\t\n\u0014\u000e\u000f\f\u0010\u0017\u0014\u0018\u0018\u0017\u0014\u0016\u0016\u001a\u001d%\u001f\u001a\u001b#\u001c\u0016\u0016 , #&')*)\u0019\u001f-0-(0%()(\u0001\u0007\u0007\u0007\n\b\n\u0013\n\n\u0013(\u001a\u0016\u001a((((((((((((((((((((((((((((((((((((((((((((((((((��\u0000\u0011\b\u0003�\u0003�\u0003\u0001\"\u0000\u0002\u0011\u0001\u0003\u0011\u0001��\u0001�\u0000\u0000\u0001\u0005\u0001\u0001\u0001\u0001\u0001\u0001\u0000\u0000\u0000\u0000\u0000\u0000\u0000\u0000\u0001\u0002\u0003\u0004\u0005\u0006\u0007\b\t\n\u000b\u0010\u0000\u0002\u0001\u0003\u0003\u0002\u0004\u0003\u0005\u0005\u0004\u0004\u0000\u0000\u0001}\u0001\u0002\u0003\u0000\u0004\u0011\u0005\u0012!1A\u0006\u0013Qa\u0007\"q\u00142���\b#B��\u0015R��$3br�\t\n\u0016\u0017\u0018\u0019\u001a%&'()*456789:CDEFGHIJSTUVWXYZcdefghijstuvwxyz�������������������������������������������������������������������������\u0001\u0000\u0003\u0001\u0001\u0001\u0001\u0001\u0001\u0001\u0001\u0001\u0000\u0000\u0000\u0000\u0000\u0000\u0001\u0002\u0003\u0004\u0005\u0006\u0007\b\t\n\u000b\u0011\u0000\u0002\u0001\u0002\u0004\u0004\u0003\u0004\u0007\u0005\u0004\u0004\u0000\u0001\u0002w\u0000\u0001\u0002\u0003\u0011\u0004\u0005!1\u0006\u0012AQ\u0007aq\u0013\"2�\b\u0014B����\t#3R�\u0015br�\n\u0016$4�%�\u0017\u0018\u0019\u001a&'()*56789:CDEFGHIJSTUVWXYZcdefghijstuvwxyz��������������������������������������������������������������������������\u0000\f\u0003\u0001\u0000\u0002\u0011\u0003\u0011\u0000?\u0000�@qڔ\ff��ֶ<\u0011�\u000ej3��J��\u0003�9�$�x�8�H\u0007�h>���O�\\�x�\u001c�h�Z\u00075\u0003C��\u0014/SH��\u001a\u0001\u000bH;�\u000e��=sE���\u0019���J�(\u0004���\u0007�h�ҁ�\n\u000e��;�H�8�N�G5��b\t\u001ct\u0014l�\u0005�<�↤Y$�������\u001f�_k���\u0000X)�Xv�|Hԧ�S�0�*�:��\u0004�>(�s�a���5W���J�ܻ���-`i�6Nk���Nª=:�O�5\u0007��c�L\u001a����s��\u0010M]�|��j'�����2�\u0000���5\rNi&i\u001e\\�Xb�\u0004�\u0015\u0015��\u0014�9�\\b��\u001e�Rz�6���˹$�\u000e�5�\u000f�.�p�\u0012+�7d?\\5iZ\\oQ�C�R�r��|:���\u0012Hp\u000fA]'�5 ���O^k��!\u0013#��k\u000b��n\u0007������+��g*�\n�\u001e\b�Hk���ђ\u000beOL���\u001dJ#\u001edp=�Q=\u0019�;�K���G�R]N��\u0000�e�TW\u001aͬ\u0001���>x�����J� ��#?ʼ��r,�Ҳr3ֵ5�d��!PB���]��Mg�ۻ3j�\"\u0004�(��SC$gr9^�U�\u0010j\"�A�Eʍ3ZMzx�\r&k:�\u0000^�E#� {\u001aͽ��\u000fAް��|��9�\u0011I�4�9\u000eԵ\u0006��;n#�k+��8�w�Y�y�v�6G�\nj*��9f\u0003<V���BF{�9\u0017\u0004V����ڣ��j蚑�:8�޶4-D������\u0019�z��o�\u001ej�O��5��8[cխ.�� ��5c�y�\u0000����}�z3�MvV���ǹ0GzɮR\u0017�[�\u0017�\u001b�qQ�m�k'R�\u0005�;���Z�Z���\u0007\u0019�\\N����g��\u0015}�\u0001\u0001b\u000ek��<q4�\u0003����#I�zte-��7z�\u00111��c�\u0005YZ���mP�3z!�x����12\u0013��A�\u0019&��)n��x?�=6��\u0005��\u0011!#Սg?��8E\u0004W���֣\\19�K�&�\t\u0004z\u0003x�[v�7�RU�I\r�k���#�5J�%S�\nJ(����O�vf+�\"�}y������\u0010��G?5R�^�'i\u000f��%±ϥ_��b�߾|����r܁���O�\u0010G#�vM\u0013�t�^\u001e&��\u0012�T����/\f+������V�ug�L\u0012qP�}��=(܆�H��ɕ&��Ma]B�\u001c��\f�k'\u001b\u000e0�(x�Hb\u0005z)��\u001a�m<���-E�� \u0007�Z����P\u001d�Tv4[\u001e��0���lWi�����n��xm��:�\u000b)IM���P�kSCR\rDI\r�\u0001v�i��\u001c��`E�p�\u0003�i֚�