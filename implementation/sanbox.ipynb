{
 "cells": [
  {
   "cell_type": "code",
   "execution_count": 2,
   "metadata": {
    "collapsed": true
   },
   "outputs": [],
   "source": [
    "import tensorflow as tf"
   ]
  },
  {
   "cell_type": "code",
   "execution_count": 3,
   "metadata": {},
   "outputs": [],
   "source": [
    "a = tf.placeholder(tf.float32, shape=[3])\n",
    "b = tf.constant([5,5,5], tf.float32)\n",
    "\n",
    "c = a + b"
   ]
  },
  {
   "cell_type": "code",
   "execution_count": 4,
   "metadata": {},
   "outputs": [
    {
     "name": "stdout",
     "output_type": "stream",
     "text": [
      "[ 6.  7.  8.]\n"
     ]
    }
   ],
   "source": [
    "with tf.Session() as sess:\n",
    "    print(sess.run(c, {a:[1,2,3]}))"
   ]
  },
  {
   "cell_type": "code",
   "execution_count": 5,
   "metadata": {},
   "outputs": [],
   "source": [
    "a = tf.add(2,5)\n",
    "b = tf.multiply(a, 3)"
   ]
  },
  {
   "cell_type": "code",
   "execution_count": 6,
   "metadata": {},
   "outputs": [
    {
     "name": "stdout",
     "output_type": "stream",
     "text": [
      "45\n"
     ]
    }
   ],
   "source": [
    "with tf.Session() as sess:\n",
    "    replace_dict = {a:15}\n",
    "    \n",
    "    print(sess.run(b, feed_dict=replace_dict))"
   ]
  },
  {
   "cell_type": "code",
   "execution_count": 7,
   "metadata": {},
   "outputs": [],
   "source": [
    "x = tf.Variable(10, name='x')\n",
    "y = tf.Variable(20, name='y')\n",
    "z = tf.add(x, y)"
   ]
  },
  {
   "cell_type": "code",
   "execution_count": 8,
   "metadata": {},
   "outputs": [
    {
     "name": "stdout",
     "output_type": "stream",
     "text": [
      "node {\n  name: \"Placeholder\"\n  op: \"Placeholder\"\n  attr {\n    key: \"dtype\"\n    value {\n      type: DT_FLOAT\n    }\n  }\n  attr {\n    key: \"shape\"\n    value {\n      shape {\n        dim {\n          size: 3\n        }\n      }\n    }\n  }\n}\nnode {\n  name: \"Const\"\n  op: \"Const\"\n  attr {\n    key: \"dtype\"\n    value {\n      type: DT_FLOAT\n    }\n  }\n  attr {\n    key: \"value\"\n    value {\n      tensor {\n        dtype: DT_FLOAT\n        tensor_shape {\n          dim {\n            size: 3\n          }\n        }\n        tensor_content: \"\\000\\000\\240@\\000\\000\\240@\\000\\000\\240@\"\n      }\n    }\n  }\n}\nnode {\n  name: \"add\"\n  op: \"Add\"\n  input: \"Placeholder\"\n  input: \"Const\"\n  attr {\n    key: \"T\"\n    value {\n      type: DT_FLOAT\n    }\n  }\n}\nnode {\n  name: \"Add/x\"\n  op: \"Const\"\n  attr {\n    key: \"dtype\"\n    value {\n      type: DT_INT32\n    }\n  }\n  attr {\n    key: \"value\"\n    value {\n      tensor {\n        dtype: DT_INT32\n        tensor_shape {\n        }\n        int_val: 2\n      }\n    }\n  }\n}\nnode {\n  name: \"Add/y\"\n  op: \"Const\"\n  attr {\n    key: \"dtype\"\n    value {\n      type: DT_INT32\n    }\n  }\n  attr {\n    key: \"value\"\n    value {\n      tensor {\n        dtype: DT_INT32\n        tensor_shape {\n        }\n        int_val: 5\n      }\n    }\n  }\n}\nnode {\n  name: \"Add\"\n  op: \"Add\"\n  input: \"Add/x\"\n  input: \"Add/y\"\n  attr {\n    key: \"T\"\n    value {\n      type: DT_INT32\n    }\n  }\n}\nnode {\n  name: \"Mul/y\"\n  op: \"Const\"\n  attr {\n    key: \"dtype\"\n    value {\n      type: DT_INT32\n    }\n  }\n  attr {\n    key: \"value\"\n    value {\n      tensor {\n        dtype: DT_INT32\n        tensor_shape {\n        }\n        int_val: 3\n      }\n    }\n  }\n}\nnode {\n  name: \"Mul\"\n  op: \"Mul\"\n  input: \"Add\"\n  input: \"Mul/y\"\n  attr {\n    key: \"T\"\n    value {\n      type: DT_INT32\n    }\n  }\n}\nnode {\n  name: \"x/initial_value\"\n  op: \"Const\"\n  attr {\n    key: \"dtype\"\n    value {\n      type: DT_INT32\n    }\n  }\n  attr {\n    key: \"value\"\n    value {\n      tensor {\n        dtype: DT_INT32\n        tensor_shape {\n        }\n        int_val: 10\n      }\n    }\n  }\n}\nnode {\n  name: \"x\"\n  op: \"VariableV2\"\n  attr {\n    key: \"container\"\n    value {\n      s: \"\"\n    }\n  }\n  attr {\n    key: \"dtype\"\n    value {\n      type: DT_INT32\n    }\n  }\n  attr {\n    key: \"shape\"\n    value {\n      shape {\n      }\n    }\n  }\n  attr {\n    key: \"shared_name\"\n    value {\n      s: \"\"\n    }\n  }\n}\nnode {\n  name: \"x/Assign\"\n  op: \"Assign\"\n  input: \"x\"\n  input: \"x/initial_value\"\n  attr {\n    key: \"T\"\n    value {\n      type: DT_INT32\n    }\n  }\n  attr {\n    key: \"_class\"\n    value {\n      list {\n        s: \"loc:@x\"\n      }\n    }\n  }\n  attr {\n    key: \"use_locking\"\n    value {\n      b: true\n    }\n  }\n  attr {\n    key: \"validate_shape\"\n    value {\n      b: true\n    }\n  }\n}\nnode {\n  name: \"x/read\"\n  op: \"Identity\"\n  input: \"x\"\n  attr {\n    key: \"T\"\n    value {\n      type: DT_INT32\n    }\n  }\n  attr {\n    key: \"_class\"\n    value {\n      list {\n        s: \"loc:@x\"\n      }\n    }\n  }\n}\nnode {\n  name: \"y/initial_value\"\n  op: \"Const\"\n  attr {\n    key: \"dtype\"\n    value {\n      type: DT_INT32\n    }\n  }\n  attr {\n    key: \"value\"\n    value {\n      tensor {\n        dtype: DT_INT32\n        tensor_shape {\n        }\n        int_val: 20\n      }\n    }\n  }\n}\nnode {\n  name: \"y\"\n  op: \"VariableV2\"\n  attr {\n    key: \"container\"\n    value {\n      s: \"\"\n    }\n  }\n  attr {\n    key: \"dtype\"\n    value {\n      type: DT_INT32\n    }\n  }\n  attr {\n    key: \"shape\"\n    value {\n      shape {\n      }\n    }\n  }\n  attr {\n    key: \"shared_name\"\n    value {\n      s: \"\"\n    }\n  }\n}\nnode {\n  name: \"y/Assign\"\n  op: \"Assign\"\n  input: \"y\"\n  input: \"y/initial_value\"\n  attr {\n    key: \"T\"\n    value {\n      type: DT_INT32\n    }\n  }\n  attr {\n    key: \"_class\"\n    value {\n      list {\n        s: \"loc:@y\"\n      }\n    }\n  }\n  attr {\n    key: \"use_locking\"\n    value {\n      b: true\n    }\n  }\n  attr {\n    key: \"validate_shape\"\n    value {\n      b: true\n    }\n  }\n}\nnode {\n  name: \"y/read\"\n  op: \"Identity\"\n  input: \"y\"\n  attr {\n    key: \"T\"\n    value {\n      type: DT_INT32\n    }\n  }\n  attr {\n    key: \"_class\"\n    value {\n      list {\n        s: \"loc:@y\"\n      }\n    }\n  }\n}\nnode {\n  name: \"Add_1\"\n  op: \"Add\"\n  input: \"x/read\"\n  input: \"y/read\"\n  attr {\n    key: \"T\"\n    value {\n      type: DT_INT32\n    }\n  }\n}\nnode {\n  name: \"init\"\n  op: \"NoOp\"\n  input: \"^x/Assign\"\n  input: \"^y/Assign\"\n}\nversions {\n  producer: 22\n}\n\n"
     ]
    }
   ],
   "source": [
    "with tf.Session() as sess:\n",
    "\tsess.run(tf.global_variables_initializer())\n",
    "\twriter = tf.summary.FileWriter('./graphs/l2', sess.graph)\n",
    "\tfor _ in range(10):\n",
    "\t\tsess.run(z)\n",
    "\tprint(tf.get_default_graph().as_graph_def())\n",
    "\twriter.close()"
   ]
  },
  {
   "cell_type": "code",
   "execution_count": 9,
   "metadata": {},
   "outputs": [
    {
     "name": "stdout",
     "output_type": "stream",
     "text": [
      "node {\n  name: \"Placeholder\"\n  op: \"Placeholder\"\n  attr {\n    key: \"dtype\"\n    value {\n      type: DT_FLOAT\n    }\n  }\n  attr {\n    key: \"shape\"\n    value {\n      shape {\n        dim {\n          size: 3\n        }\n      }\n    }\n  }\n}\nnode {\n  name: \"Const\"\n  op: \"Const\"\n  attr {\n    key: \"dtype\"\n    value {\n      type: DT_FLOAT\n    }\n  }\n  attr {\n    key: \"value\"\n    value {\n      tensor {\n        dtype: DT_FLOAT\n        tensor_shape {\n          dim {\n            size: 3\n          }\n        }\n        tensor_content: \"\\000\\000\\240@\\000\\000\\240@\\000\\000\\240@\"\n      }\n    }\n  }\n}\nnode {\n  name: \"add\"\n  op: \"Add\"\n  input: \"Placeholder\"\n  input: \"Const\"\n  attr {\n    key: \"T\"\n    value {\n      type: DT_FLOAT\n    }\n  }\n}\nnode {\n  name: \"Add/x\"\n  op: \"Const\"\n  attr {\n    key: \"dtype\"\n    value {\n      type: DT_INT32\n    }\n  }\n  attr {\n    key: \"value\"\n    value {\n      tensor {\n        dtype: DT_INT32\n        tensor_shape {\n        }\n        int_val: 2\n      }\n    }\n  }\n}\nnode {\n  name: \"Add/y\"\n  op: \"Const\"\n  attr {\n    key: \"dtype\"\n    value {\n      type: DT_INT32\n    }\n  }\n  attr {\n    key: \"value\"\n    value {\n      tensor {\n        dtype: DT_INT32\n        tensor_shape {\n        }\n        int_val: 5\n      }\n    }\n  }\n}\nnode {\n  name: \"Add\"\n  op: \"Add\"\n  input: \"Add/x\"\n  input: \"Add/y\"\n  attr {\n    key: \"T\"\n    value {\n      type: DT_INT32\n    }\n  }\n}\nnode {\n  name: \"Mul/y\"\n  op: \"Const\"\n  attr {\n    key: \"dtype\"\n    value {\n      type: DT_INT32\n    }\n  }\n  attr {\n    key: \"value\"\n    value {\n      tensor {\n        dtype: DT_INT32\n        tensor_shape {\n        }\n        int_val: 3\n      }\n    }\n  }\n}\nnode {\n  name: \"Mul\"\n  op: \"Mul\"\n  input: \"Add\"\n  input: \"Mul/y\"\n  attr {\n    key: \"T\"\n    value {\n      type: DT_INT32\n    }\n  }\n}\nnode {\n  name: \"x/initial_value\"\n  op: \"Const\"\n  attr {\n    key: \"dtype\"\n    value {\n      type: DT_INT32\n    }\n  }\n  attr {\n    key: \"value\"\n    value {\n      tensor {\n        dtype: DT_INT32\n        tensor_shape {\n        }\n        int_val: 10\n      }\n    }\n  }\n}\nnode {\n  name: \"x\"\n  op: \"VariableV2\"\n  attr {\n    key: \"container\"\n    value {\n      s: \"\"\n    }\n  }\n  attr {\n    key: \"dtype\"\n    value {\n      type: DT_INT32\n    }\n  }\n  attr {\n    key: \"shape\"\n    value {\n      shape {\n      }\n    }\n  }\n  attr {\n    key: \"shared_name\"\n    value {\n      s: \"\"\n    }\n  }\n}\nnode {\n  name: \"x/Assign\"\n  op: \"Assign\"\n  input: \"x\"\n  input: \"x/initial_value\"\n  attr {\n    key: \"T\"\n    value {\n      type: DT_INT32\n    }\n  }\n  attr {\n    key: \"_class\"\n    value {\n      list {\n        s: \"loc:@x\"\n      }\n    }\n  }\n  attr {\n    key: \"use_locking\"\n    value {\n      b: true\n    }\n  }\n  attr {\n    key: \"validate_shape\"\n    value {\n      b: true\n    }\n  }\n}\nnode {\n  name: \"x/read\"\n  op: \"Identity\"\n  input: \"x\"\n  attr {\n    key: \"T\"\n    value {\n      type: DT_INT32\n    }\n  }\n  attr {\n    key: \"_class\"\n    value {\n      list {\n        s: \"loc:@x\"\n      }\n    }\n  }\n}\nnode {\n  name: \"y/initial_value\"\n  op: \"Const\"\n  attr {\n    key: \"dtype\"\n    value {\n      type: DT_INT32\n    }\n  }\n  attr {\n    key: \"value\"\n    value {\n      tensor {\n        dtype: DT_INT32\n        tensor_shape {\n        }\n        int_val: 20\n      }\n    }\n  }\n}\nnode {\n  name: \"y\"\n  op: \"VariableV2\"\n  attr {\n    key: \"container\"\n    value {\n      s: \"\"\n    }\n  }\n  attr {\n    key: \"dtype\"\n    value {\n      type: DT_INT32\n    }\n  }\n  attr {\n    key: \"shape\"\n    value {\n      shape {\n      }\n    }\n  }\n  attr {\n    key: \"shared_name\"\n    value {\n      s: \"\"\n    }\n  }\n}\nnode {\n  name: \"y/Assign\"\n  op: \"Assign\"\n  input: \"y\"\n  input: \"y/initial_value\"\n  attr {\n    key: \"T\"\n    value {\n      type: DT_INT32\n    }\n  }\n  attr {\n    key: \"_class\"\n    value {\n      list {\n        s: \"loc:@y\"\n      }\n    }\n  }\n  attr {\n    key: \"use_locking\"\n    value {\n      b: true\n    }\n  }\n  attr {\n    key: \"validate_shape\"\n    value {\n      b: true\n    }\n  }\n}\nnode {\n  name: \"y/read\"\n  op: \"Identity\"\n  input: \"y\"\n  attr {\n    key: \"T\"\n    value {\n      type: DT_INT32\n    }\n  }\n  attr {\n    key: \"_class\"\n    value {\n      list {\n        s: \"loc:@y\"\n      }\n    }\n  }\n}\nnode {\n  name: \"Add_1\"\n  op: \"Add\"\n  input: \"x/read\"\n  input: \"y/read\"\n  attr {\n    key: \"T\"\n    value {\n      type: DT_INT32\n    }\n  }\n}\nnode {\n  name: \"init\"\n  op: \"NoOp\"\n  input: \"^x/Assign\"\n  input: \"^y/Assign\"\n}\nnode {\n  name: \"x_1/initial_value\"\n  op: \"Const\"\n  attr {\n    key: \"dtype\"\n    value {\n      type: DT_INT32\n    }\n  }\n  attr {\n    key: \"value\"\n    value {\n      tensor {\n        dtype: DT_INT32\n        tensor_shape {\n        }\n        int_val: 10\n      }\n    }\n  }\n}\nnode {\n  name: \"x_1\"\n  op: \"VariableV2\"\n  attr {\n    key: \"container\"\n    value {\n      s: \"\"\n    }\n  }\n  attr {\n    key: \"dtype\"\n    value {\n      type: DT_INT32\n    }\n  }\n  attr {\n    key: \"shape\"\n    value {\n      shape {\n      }\n    }\n  }\n  attr {\n    key: \"shared_name\"\n    value {\n      s: \"\"\n    }\n  }\n}\nnode {\n  name: \"x_1/Assign\"\n  op: \"Assign\"\n  input: \"x_1\"\n  input: \"x_1/initial_value\"\n  attr {\n    key: \"T\"\n    value {\n      type: DT_INT32\n    }\n  }\n  attr {\n    key: \"_class\"\n    value {\n      list {\n        s: \"loc:@x_1\"\n      }\n    }\n  }\n  attr {\n    key: \"use_locking\"\n    value {\n      b: true\n    }\n  }\n  attr {\n    key: \"validate_shape\"\n    value {\n      b: true\n    }\n  }\n}\nnode {\n  name: \"x_1/read\"\n  op: \"Identity\"\n  input: \"x_1\"\n  attr {\n    key: \"T\"\n    value {\n      type: DT_INT32\n    }\n  }\n  attr {\n    key: \"_class\"\n    value {\n      list {\n        s: \"loc:@x_1\"\n      }\n    }\n  }\n}\nnode {\n  name: \"y_1/initial_value\"\n  op: \"Const\"\n  attr {\n    key: \"dtype\"\n    value {\n      type: DT_INT32\n    }\n  }\n  attr {\n    key: \"value\"\n    value {\n      tensor {\n        dtype: DT_INT32\n        tensor_shape {\n        }\n        int_val: 20\n      }\n    }\n  }\n}\nnode {\n  name: \"y_1\"\n  op: \"VariableV2\"\n  attr {\n    key: \"container\"\n    value {\n      s: \"\"\n    }\n  }\n  attr {\n    key: \"dtype\"\n    value {\n      type: DT_INT32\n    }\n  }\n  attr {\n    key: \"shape\"\n    value {\n      shape {\n      }\n    }\n  }\n  attr {\n    key: \"shared_name\"\n    value {\n      s: \"\"\n    }\n  }\n}\nnode {\n  name: \"y_1/Assign\"\n  op: \"Assign\"\n  input: \"y_1\"\n  input: \"y_1/initial_value\"\n  attr {\n    key: \"T\"\n    value {\n      type: DT_INT32\n    }\n  }\n  attr {\n    key: \"_class\"\n    value {\n      list {\n        s: \"loc:@y_1\"\n      }\n    }\n  }\n  attr {\n    key: \"use_locking\"\n    value {\n      b: true\n    }\n  }\n  attr {\n    key: \"validate_shape\"\n    value {\n      b: true\n    }\n  }\n}\nnode {\n  name: \"y_1/read\"\n  op: \"Identity\"\n  input: \"y_1\"\n  attr {\n    key: \"T\"\n    value {\n      type: DT_INT32\n    }\n  }\n  attr {\n    key: \"_class\"\n    value {\n      list {\n        s: \"loc:@y_1\"\n      }\n    }\n  }\n}\nnode {\n  name: \"init_1\"\n  op: \"NoOp\"\n  input: \"^x/Assign\"\n  input: \"^y/Assign\"\n  input: \"^x_1/Assign\"\n  input: \"^y_1/Assign\"\n}\nnode {\n  name: \"Add_2\"\n  op: \"Add\"\n  input: \"x_1/read\"\n  input: \"y_1/read\"\n  attr {\n    key: \"T\"\n    value {\n      type: DT_INT32\n    }\n  }\n}\nnode {\n  name: \"Add_3\"\n  op: \"Add\"\n  input: \"x_1/read\"\n  input: \"y_1/read\"\n  attr {\n    key: \"T\"\n    value {\n      type: DT_INT32\n    }\n  }\n}\nnode {\n  name: \"Add_4\"\n  op: \"Add\"\n  input: \"x_1/read\"\n  input: \"y_1/read\"\n  attr {\n    key: \"T\"\n    value {\n      type: DT_INT32\n    }\n  }\n}\nnode {\n  name: \"Add_5\"\n  op: \"Add\"\n  input: \"x_1/read\"\n  input: \"y_1/read\"\n  attr {\n    key: \"T\"\n    value {\n      type: DT_INT32\n    }\n  }\n}\nnode {\n  name: \"Add_6\"\n  op: \"Add\"\n  input: \"x_1/read\"\n  input: \"y_1/read\"\n  attr {\n    key: \"T\"\n    value {\n      type: DT_INT32\n    }\n  }\n}\nnode {\n  name: \"Add_7\"\n  op: \"Add\"\n  input: \"x_1/read\"\n  input: \"y_1/read\"\n  attr {\n    key: \"T\"\n    value {\n      type: DT_INT32\n    }\n  }\n}\nnode {\n  name: \"Add_8\"\n  op: \"Add\"\n  input: \"x_1/read\"\n  input: \"y_1/read\"\n  attr {\n    key: \"T\"\n    value {\n      type: DT_INT32\n    }\n  }\n}\nnode {\n  name: \"Add_9\"\n  op: \"Add\"\n  input: \"x_1/read\"\n  input: \"y_1/read\"\n  attr {\n    key: \"T\"\n    value {\n      type: DT_INT32\n    }\n  }\n}\nnode {\n  name: \"Add_10\"\n  op: \"Add\"\n  input: \"x_1/read\"\n  input: \"y_1/read\"\n  attr {\n    key: \"T\"\n    value {\n      type: DT_INT32\n    }\n  }\n}\nnode {\n  name: \"Add_11\"\n  op: \"Add\"\n  input: \"x_1/read\"\n  input: \"y_1/read\"\n  attr {\n    key: \"T\"\n    value {\n      type: DT_INT32\n    }\n  }\n}\nversions {\n  producer: 22\n}\n\n"
     ]
    }
   ],
   "source": [
    "x = tf.Variable(10, name='x')\n",
    "y = tf.Variable(20, name='y')\n",
    "\n",
    "with tf.Session() as sess:\n",
    "\tsess.run(tf.global_variables_initializer())\n",
    "\twriter = tf.summary.FileWriter('./graphs/l2', sess.graph)\n",
    "\tfor _ in range(10):\n",
    "\t\tsess.run(tf.add(x, y))\n",
    "\tprint(tf.get_default_graph().as_graph_def()) \n",
    "\twriter.close()"
   ]
  },
  {
   "cell_type": "code",
   "execution_count": 10,
   "metadata": {},
   "outputs": [
    {
     "name": "stdout",
     "output_type": "stream",
     "text": [
      "10\n100\n"
     ]
    }
   ],
   "source": [
    "W = tf.Variable(10)\n",
    "assign_op = W.assign(100)\n",
    "\n",
    "with tf.Session() as sess:\n",
    "\tsess.run(W.initializer)\n",
    "\tprint(W.eval()) # >> 10\n",
    "\tprint(sess.run(assign_op)) # >> 100"
   ]
  },
  {
   "cell_type": "code",
   "execution_count": 11,
   "metadata": {},
   "outputs": [
    {
     "name": "stdout",
     "output_type": "stream",
     "text": [
      "4\n8\n16\n"
     ]
    }
   ],
   "source": [
    "my_var = tf.Variable(2, name=\"my_var\") \n",
    "\n",
    "# assign 2 * my_var to my_var and run the op my_var_times_two\n",
    "my_var_times_two = my_var.assign(2 * my_var)\n",
    "\n",
    "with tf.Session() as sess:\n",
    "\tsess.run(tf.global_variables_initializer())\n",
    "\tprint(sess.run(my_var_times_two)) # >> 4\n",
    "\tprint(sess.run(my_var_times_two)) # >> 8\n",
    "\tprint(sess.run(my_var_times_two)) # >> 16"
   ]
  },
  {
   "cell_type": "code",
   "execution_count": 15,
   "metadata": {},
   "outputs": [
    {
     "name": "stdout",
     "output_type": "stream",
     "text": [
      "20\n8\n120\n-42\n"
     ]
    }
   ],
   "source": [
    "W = tf.Variable(10)\n",
    "sess1 = tf.Session()\n",
    "sess2 = tf.Session()\n",
    "\n",
    "# You have to initialize W at each session\n",
    "sess1.run(tf.global_variables_initializer())\n",
    "sess2.run(W.initializer)\n",
    "\n",
    "print(sess1.run(W.assign_add(10))) # >> 20\n",
    "print(sess2.run(W.assign_sub(2))) # >> 8\n",
    "\n",
    "print(sess1.run(W.assign_add(100))) # >> 120\n",
    "print(sess2.run(W.assign_sub(50))) # >> -42\n",
    "\n",
    "sess1.close()\n",
    "sess2.close()"
   ]
  },
  {
   "cell_type": "code",
   "execution_count": 20,
   "metadata": {},
   "outputs": [
    {
     "name": "stdout",
     "output_type": "stream",
     "text": [
      "Tensor(\"zeros_like_3:0\", shape=(2,), dtype=int32)\n[0 0]\n"
     ]
    }
   ],
   "source": [
    "y = tf.zeros_like([200, 3], optimize=True)\n",
    "print(y)\n",
    "with tf.Session() as sess:\n",
    "    y = sess.run(y)\n",
    "    print(y)"
   ]
  },
  {
   "cell_type": "code",
   "execution_count": 27,
   "metadata": {},
   "outputs": [
    {
     "name": "stdout",
     "output_type": "stream",
     "text": [
      "[ 10.  11.  12.  13.]\n[10 11 12 13]\n10\n11\n12\n13\n"
     ]
    }
   ],
   "source": [
    "import numpy as np\n",
    "\n",
    "with tf.Session() as sess:\n",
    "\tprint(sess.run(tf.linspace(10.0, 13.0, 4)))\n",
    "\tprint(sess.run(tf.range(10, 14)))\n",
    "\tfor i in np.arange(10, 14):\n",
    "\t\tprint(i)"
   ]
  },
  {
   "cell_type": "code",
   "execution_count": 32,
   "metadata": {
    "collapsed": true
   },
   "outputs": [
    {
     "ename": "InvalidArgumentError",
     "evalue": "Cannot assign a device for operation 'mul_1': Operation was explicitly assigned to /device:GPU:2 but available devices are [ /job:localhost/replica:0/task:0/cpu:0 ]. Make sure the device specification refers to a valid device.\n\t [[Node: mul_1 = Mul[T=DT_FLOAT, _device=\"/device:GPU:2\"](a_4, b_4)]]\n\nCaused by op u'mul_1', defined at:\n  File \"/usr/local/Cellar/python/2.7.12_2/Frameworks/Python.framework/Versions/2.7/lib/python2.7/runpy.py\", line 174, in _run_module_as_main\n    \"__main__\", fname, loader, pkg_name)\n  File \"/usr/local/Cellar/python/2.7.12_2/Frameworks/Python.framework/Versions/2.7/lib/python2.7/runpy.py\", line 72, in _run_code\n    exec code in run_globals\n  File \"/usr/local/lib/python2.7/site-packages/ipykernel/__main__.py\", line 3, in <module>\n    app.launch_new_instance()\n  File \"/usr/local/lib/python2.7/site-packages/traitlets/config/application.py\", line 658, in launch_instance\n    app.start()\n  File \"/usr/local/lib/python2.7/site-packages/ipykernel/kernelapp.py\", line 474, in start\n    ioloop.IOLoop.instance().start()\n  File \"/usr/local/lib/python2.7/site-packages/zmq/eventloop/ioloop.py\", line 177, in start\n    super(ZMQIOLoop, self).start()\n  File \"/usr/local/lib/python2.7/site-packages/tornado/ioloop.py\", line 887, in start\n    handler_func(fd_obj, events)\n  File \"/usr/local/lib/python2.7/site-packages/tornado/stack_context.py\", line 275, in null_wrapper\n    return fn(*args, **kwargs)\n  File \"/usr/local/lib/python2.7/site-packages/zmq/eventloop/zmqstream.py\", line 440, in _handle_events\n    self._handle_recv()\n  File \"/usr/local/lib/python2.7/site-packages/zmq/eventloop/zmqstream.py\", line 472, in _handle_recv\n    self._run_callback(callback, msg)\n  File \"/usr/local/lib/python2.7/site-packages/zmq/eventloop/zmqstream.py\", line 414, in _run_callback\n    callback(*args, **kwargs)\n  File \"/usr/local/lib/python2.7/site-packages/tornado/stack_context.py\", line 275, in null_wrapper\n    return fn(*args, **kwargs)\n  File \"/usr/local/lib/python2.7/site-packages/ipykernel/kernelbase.py\", line 276, in dispatcher\n    return self.dispatch_shell(stream, msg)\n  File \"/usr/local/lib/python2.7/site-packages/ipykernel/kernelbase.py\", line 228, in dispatch_shell\n    handler(stream, idents, msg)\n  File \"/usr/local/lib/python2.7/site-packages/ipykernel/kernelbase.py\", line 390, in execute_request\n    user_expressions, allow_stdin)\n  File \"/usr/local/lib/python2.7/site-packages/ipykernel/ipkernel.py\", line 196, in do_execute\n    res = shell.run_cell(code, store_history=store_history, silent=silent)\n  File \"/usr/local/lib/python2.7/site-packages/ipykernel/zmqshell.py\", line 501, in run_cell\n    return super(ZMQInteractiveShell, self).run_cell(*args, **kwargs)\n  File \"/usr/local/lib/python2.7/site-packages/IPython/core/interactiveshell.py\", line 2717, in run_cell\n    interactivity=interactivity, compiler=compiler, result=result)\n  File \"/usr/local/lib/python2.7/site-packages/IPython/core/interactiveshell.py\", line 2821, in run_ast_nodes\n    if self.run_code(code, result):\n  File \"/usr/local/lib/python2.7/site-packages/IPython/core/interactiveshell.py\", line 2881, in run_code\n    exec(code_obj, self.user_global_ns, self.user_ns)\n  File \"<ipython-input-32-a255a3f6bec3>\", line 4, in <module>\n    c = a * b\n  File \"/usr/local/lib/python2.7/site-packages/tensorflow/python/ops/math_ops.py\", line 838, in binary_op_wrapper\n    return func(x, y, name=name)\n  File \"/usr/local/lib/python2.7/site-packages/tensorflow/python/ops/math_ops.py\", line 1061, in _mul_dispatch\n    return gen_math_ops._mul(x, y, name=name)\n  File \"/usr/local/lib/python2.7/site-packages/tensorflow/python/ops/gen_math_ops.py\", line 1377, in _mul\n    result = _op_def_lib.apply_op(\"Mul\", x=x, y=y, name=name)\n  File \"/usr/local/lib/python2.7/site-packages/tensorflow/python/framework/op_def_library.py\", line 767, in apply_op\n    op_def=op_def)\n  File \"/usr/local/lib/python2.7/site-packages/tensorflow/python/framework/ops.py\", line 2506, in create_op\n    original_op=self._default_original_op, op_def=op_def)\n  File \"/usr/local/lib/python2.7/site-packages/tensorflow/python/framework/ops.py\", line 1269, in __init__\n    self._traceback = _extract_stack()\n\nInvalidArgumentError (see above for traceback): Cannot assign a device for operation 'mul_1': Operation was explicitly assigned to /device:GPU:2 but available devices are [ /job:localhost/replica:0/task:0/cpu:0 ]. Make sure the device specification refers to a valid device.\n\t [[Node: mul_1 = Mul[T=DT_FLOAT, _device=\"/device:GPU:2\"](a_4, b_4)]]\n",
     "traceback": [
      "\u001b[0;31m---------------------------------------------------------------------------\u001b[0m",
      "\u001b[0;31mInvalidArgumentError\u001b[0m                      Traceback (most recent call last)",
      "\u001b[0;32m<ipython-input-32-a255a3f6bec3>\u001b[0m in \u001b[0;36m<module>\u001b[0;34m()\u001b[0m\n\u001b[1;32m      6\u001b[0m     \u001b[0msess\u001b[0m \u001b[0;34m=\u001b[0m \u001b[0mtf\u001b[0m\u001b[0;34m.\u001b[0m\u001b[0mSession\u001b[0m\u001b[0;34m(\u001b[0m\u001b[0mconfig\u001b[0m\u001b[0;34m=\u001b[0m\u001b[0mtf\u001b[0m\u001b[0;34m.\u001b[0m\u001b[0mConfigProto\u001b[0m\u001b[0;34m(\u001b[0m\u001b[0mlog_device_placement\u001b[0m\u001b[0;34m=\u001b[0m\u001b[0mTrue\u001b[0m\u001b[0;34m)\u001b[0m\u001b[0;34m)\u001b[0m\u001b[0;34m\u001b[0m\u001b[0m\n\u001b[1;32m      7\u001b[0m \u001b[0;34m\u001b[0m\u001b[0m\n\u001b[0;32m----> 8\u001b[0;31m     \u001b[0;32mprint\u001b[0m\u001b[0;34m(\u001b[0m\u001b[0msess\u001b[0m\u001b[0;34m.\u001b[0m\u001b[0mrun\u001b[0m\u001b[0;34m(\u001b[0m\u001b[0mc\u001b[0m\u001b[0;34m)\u001b[0m\u001b[0;34m)\u001b[0m\u001b[0;34m\u001b[0m\u001b[0m\n\u001b[0m",
      "\u001b[0;32m/usr/local/lib/python2.7/site-packages/tensorflow/python/client/session.pyc\u001b[0m in \u001b[0;36mrun\u001b[0;34m(self, fetches, feed_dict, options, run_metadata)\u001b[0m\n\u001b[1;32m    787\u001b[0m     \u001b[0;32mtry\u001b[0m\u001b[0;34m:\u001b[0m\u001b[0;34m\u001b[0m\u001b[0m\n\u001b[1;32m    788\u001b[0m       result = self._run(None, fetches, feed_dict, options_ptr,\n\u001b[0;32m--> 789\u001b[0;31m                          run_metadata_ptr)\n\u001b[0m\u001b[1;32m    790\u001b[0m       \u001b[0;32mif\u001b[0m \u001b[0mrun_metadata\u001b[0m\u001b[0;34m:\u001b[0m\u001b[0;34m\u001b[0m\u001b[0m\n\u001b[1;32m    791\u001b[0m         \u001b[0mproto_data\u001b[0m \u001b[0;34m=\u001b[0m \u001b[0mtf_session\u001b[0m\u001b[0;34m.\u001b[0m\u001b[0mTF_GetBuffer\u001b[0m\u001b[0;34m(\u001b[0m\u001b[0mrun_metadata_ptr\u001b[0m\u001b[0;34m)\u001b[0m\u001b[0;34m\u001b[0m\u001b[0m\n",
      "\u001b[0;32m/usr/local/lib/python2.7/site-packages/tensorflow/python/client/session.pyc\u001b[0m in \u001b[0;36m_run\u001b[0;34m(self, handle, fetches, feed_dict, options, run_metadata)\u001b[0m\n\u001b[1;32m    995\u001b[0m     \u001b[0;32mif\u001b[0m \u001b[0mfinal_fetches\u001b[0m \u001b[0;32mor\u001b[0m \u001b[0mfinal_targets\u001b[0m\u001b[0;34m:\u001b[0m\u001b[0;34m\u001b[0m\u001b[0m\n\u001b[1;32m    996\u001b[0m       results = self._do_run(handle, final_targets, final_fetches,\n\u001b[0;32m--> 997\u001b[0;31m                              feed_dict_string, options, run_metadata)\n\u001b[0m\u001b[1;32m    998\u001b[0m     \u001b[0;32melse\u001b[0m\u001b[0;34m:\u001b[0m\u001b[0;34m\u001b[0m\u001b[0m\n\u001b[1;32m    999\u001b[0m       \u001b[0mresults\u001b[0m \u001b[0;34m=\u001b[0m \u001b[0;34m[\u001b[0m\u001b[0;34m]\u001b[0m\u001b[0;34m\u001b[0m\u001b[0m\n",
      "\u001b[0;32m/usr/local/lib/python2.7/site-packages/tensorflow/python/client/session.pyc\u001b[0m in \u001b[0;36m_do_run\u001b[0;34m(self, handle, target_list, fetch_list, feed_dict, options, run_metadata)\u001b[0m\n\u001b[1;32m   1130\u001b[0m     \u001b[0;32mif\u001b[0m \u001b[0mhandle\u001b[0m \u001b[0;32mis\u001b[0m \u001b[0mNone\u001b[0m\u001b[0;34m:\u001b[0m\u001b[0;34m\u001b[0m\u001b[0m\n\u001b[1;32m   1131\u001b[0m       return self._do_call(_run_fn, self._session, feed_dict, fetch_list,\n\u001b[0;32m-> 1132\u001b[0;31m                            target_list, options, run_metadata)\n\u001b[0m\u001b[1;32m   1133\u001b[0m     \u001b[0;32melse\u001b[0m\u001b[0;34m:\u001b[0m\u001b[0;34m\u001b[0m\u001b[0m\n\u001b[1;32m   1134\u001b[0m       return self._do_call(_prun_fn, self._session, handle, feed_dict,\n",
      "\u001b[0;32m/usr/local/lib/python2.7/site-packages/tensorflow/python/client/session.pyc\u001b[0m in \u001b[0;36m_do_call\u001b[0;34m(self, fn, *args)\u001b[0m\n\u001b[1;32m   1150\u001b[0m         \u001b[0;32mexcept\u001b[0m \u001b[0mKeyError\u001b[0m\u001b[0;34m:\u001b[0m\u001b[0;34m\u001b[0m\u001b[0m\n\u001b[1;32m   1151\u001b[0m           \u001b[0;32mpass\u001b[0m\u001b[0;34m\u001b[0m\u001b[0m\n\u001b[0;32m-> 1152\u001b[0;31m       \u001b[0;32mraise\u001b[0m \u001b[0mtype\u001b[0m\u001b[0;34m(\u001b[0m\u001b[0me\u001b[0m\u001b[0;34m)\u001b[0m\u001b[0;34m(\u001b[0m\u001b[0mnode_def\u001b[0m\u001b[0;34m,\u001b[0m \u001b[0mop\u001b[0m\u001b[0;34m,\u001b[0m \u001b[0mmessage\u001b[0m\u001b[0;34m)\u001b[0m\u001b[0;34m\u001b[0m\u001b[0m\n\u001b[0m\u001b[1;32m   1153\u001b[0m \u001b[0;34m\u001b[0m\u001b[0m\n\u001b[1;32m   1154\u001b[0m   \u001b[0;32mdef\u001b[0m \u001b[0m_extend_graph\u001b[0m\u001b[0;34m(\u001b[0m\u001b[0mself\u001b[0m\u001b[0;34m)\u001b[0m\u001b[0;34m:\u001b[0m\u001b[0;34m\u001b[0m\u001b[0m\n",
      "\u001b[0;31mInvalidArgumentError\u001b[0m: Cannot assign a device for operation 'mul_1': Operation was explicitly assigned to /device:GPU:2 but available devices are [ /job:localhost/replica:0/task:0/cpu:0 ]. Make sure the device specification refers to a valid device.\n\t [[Node: mul_1 = Mul[T=DT_FLOAT, _device=\"/device:GPU:2\"](a_4, b_4)]]\n\nCaused by op u'mul_1', defined at:\n  File \"/usr/local/Cellar/python/2.7.12_2/Frameworks/Python.framework/Versions/2.7/lib/python2.7/runpy.py\", line 174, in _run_module_as_main\n    \"__main__\", fname, loader, pkg_name)\n  File \"/usr/local/Cellar/python/2.7.12_2/Frameworks/Python.framework/Versions/2.7/lib/python2.7/runpy.py\", line 72, in _run_code\n    exec code in run_globals\n  File \"/usr/local/lib/python2.7/site-packages/ipykernel/__main__.py\", line 3, in <module>\n    app.launch_new_instance()\n  File \"/usr/local/lib/python2.7/site-packages/traitlets/config/application.py\", line 658, in launch_instance\n    app.start()\n  File \"/usr/local/lib/python2.7/site-packages/ipykernel/kernelapp.py\", line 474, in start\n    ioloop.IOLoop.instance().start()\n  File \"/usr/local/lib/python2.7/site-packages/zmq/eventloop/ioloop.py\", line 177, in start\n    super(ZMQIOLoop, self).start()\n  File \"/usr/local/lib/python2.7/site-packages/tornado/ioloop.py\", line 887, in start\n    handler_func(fd_obj, events)\n  File \"/usr/local/lib/python2.7/site-packages/tornado/stack_context.py\", line 275, in null_wrapper\n    return fn(*args, **kwargs)\n  File \"/usr/local/lib/python2.7/site-packages/zmq/eventloop/zmqstream.py\", line 440, in _handle_events\n    self._handle_recv()\n  File \"/usr/local/lib/python2.7/site-packages/zmq/eventloop/zmqstream.py\", line 472, in _handle_recv\n    self._run_callback(callback, msg)\n  File \"/usr/local/lib/python2.7/site-packages/zmq/eventloop/zmqstream.py\", line 414, in _run_callback\n    callback(*args, **kwargs)\n  File \"/usr/local/lib/python2.7/site-packages/tornado/stack_context.py\", line 275, in null_wrapper\n    return fn(*args, **kwargs)\n  File \"/usr/local/lib/python2.7/site-packages/ipykernel/kernelbase.py\", line 276, in dispatcher\n    return self.dispatch_shell(stream, msg)\n  File \"/usr/local/lib/python2.7/site-packages/ipykernel/kernelbase.py\", line 228, in dispatch_shell\n    handler(stream, idents, msg)\n  File \"/usr/local/lib/python2.7/site-packages/ipykernel/kernelbase.py\", line 390, in execute_request\n    user_expressions, allow_stdin)\n  File \"/usr/local/lib/python2.7/site-packages/ipykernel/ipkernel.py\", line 196, in do_execute\n    res = shell.run_cell(code, store_history=store_history, silent=silent)\n  File \"/usr/local/lib/python2.7/site-packages/ipykernel/zmqshell.py\", line 501, in run_cell\n    return super(ZMQInteractiveShell, self).run_cell(*args, **kwargs)\n  File \"/usr/local/lib/python2.7/site-packages/IPython/core/interactiveshell.py\", line 2717, in run_cell\n    interactivity=interactivity, compiler=compiler, result=result)\n  File \"/usr/local/lib/python2.7/site-packages/IPython/core/interactiveshell.py\", line 2821, in run_ast_nodes\n    if self.run_code(code, result):\n  File \"/usr/local/lib/python2.7/site-packages/IPython/core/interactiveshell.py\", line 2881, in run_code\n    exec(code_obj, self.user_global_ns, self.user_ns)\n  File \"<ipython-input-32-a255a3f6bec3>\", line 4, in <module>\n    c = a * b\n  File \"/usr/local/lib/python2.7/site-packages/tensorflow/python/ops/math_ops.py\", line 838, in binary_op_wrapper\n    return func(x, y, name=name)\n  File \"/usr/local/lib/python2.7/site-packages/tensorflow/python/ops/math_ops.py\", line 1061, in _mul_dispatch\n    return gen_math_ops._mul(x, y, name=name)\n  File \"/usr/local/lib/python2.7/site-packages/tensorflow/python/ops/gen_math_ops.py\", line 1377, in _mul\n    result = _op_def_lib.apply_op(\"Mul\", x=x, y=y, name=name)\n  File \"/usr/local/lib/python2.7/site-packages/tensorflow/python/framework/op_def_library.py\", line 767, in apply_op\n    op_def=op_def)\n  File \"/usr/local/lib/python2.7/site-packages/tensorflow/python/framework/ops.py\", line 2506, in create_op\n    original_op=self._default_original_op, op_def=op_def)\n  File \"/usr/local/lib/python2.7/site-packages/tensorflow/python/framework/ops.py\", line 1269, in __init__\n    self._traceback = _extract_stack()\n\nInvalidArgumentError (see above for traceback): Cannot assign a device for operation 'mul_1': Operation was explicitly assigned to /device:GPU:2 but available devices are [ /job:localhost/replica:0/task:0/cpu:0 ]. Make sure the device specification refers to a valid device.\n\t [[Node: mul_1 = Mul[T=DT_FLOAT, _device=\"/device:GPU:2\"](a_4, b_4)]]\n"
     ],
     "output_type": "error"
    }
   ],
   "source": [
    "with tf.device('/gpu:2'):\n",
    "    a = tf.constant([1.0, 2.0, 3.0, 4.0, 5.0, 6.0], name='a')\n",
    "    b = tf.constant([1.0, 2.0, 3.0, 4.0, 5.0, 6.0], name='b')\n",
    "    c = a * b\n",
    "    \n",
    "    sess = tf.Session(config=tf.ConfigProto(log_device_placement=True))\n",
    "    \n",
    "    print(sess.run(c))"
   ]
  },
  {
   "cell_type": "code",
   "execution_count": 17,
   "metadata": {},
   "outputs": [
    {
     "name": "stdout",
     "output_type": "stream",
     "text": [
      "[[1 1 1 1 1 1 1 1 1 1 1 1 1 1 1 1 1 1 1 1 1 1 1 1 1 1 1 1 1 1]\n [1 1 1 1 1 1 1 1 1 1 1 1 1 1 1 1 1 1 1 1 1 1 1 1 1 1 1 1 1 1]]\n[ 10.]\n"
     ]
    }
   ],
   "source": [
    "import tensorflow as tf\n",
    "\n",
    "a = tf.constant([[0, 1], [2, 3]], shape=[2,2], dtype=tf.int32 ,name='InputA')\n",
    "b = tf.constant([[0, 1], [2, 3]], shape=[2,2], dtype=tf.int32,  name='InputB')\n",
    "x = tf.matmul(a, b, name='SumThisStuff')\n",
    "z = tf.ones([2, 30], tf.int32)\n",
    "z1 = tf.zeros_like(z)\n",
    "z2 = tf.linspace(10.0, 12.0, 1, name=\"linspace\") \n",
    "with tf.Session() as sess:\n",
    "   # writer = tf.summary.FileWriter('graphs', sess.graph)\n",
    "    print(sess.run(z))\n",
    "    print(sess.run(z2))\n",
    "writer.close()"
   ]
  },
  {
   "cell_type": "code",
   "execution_count": 23,
   "metadata": {},
   "outputs": [
    {
     "name": "stdout",
     "output_type": "stream",
     "text": [
      "Successfully downloaded train-images-idx3-ubyte.gz 9912422 bytes.\nExtracting mnist/train-images-idx3-ubyte.gz\n"
     ]
    },
    {
     "name": "stdout",
     "output_type": "stream",
     "text": [
      "Successfully downloaded train-labels-idx1-ubyte.gz 28881 bytes.\nExtracting mnist/train-labels-idx1-ubyte.gz\n"
     ]
    },
    {
     "name": "stdout",
     "output_type": "stream",
     "text": [
      "Successfully downloaded t10k-images-idx3-ubyte.gz 1648877 bytes.\nExtracting mnist/t10k-images-idx3-ubyte.gz\n"
     ]
    },
    {
     "name": "stdout",
     "output_type": "stream",
     "text": [
      "Successfully downloaded t10k-labels-idx1-ubyte.gz 4542 bytes.\nExtracting mnist/t10k-labels-idx1-ubyte.gz\n"
     ]
    }
   ],
   "source": [
    "\"\"\" Simple logistic regression model to solve OCR task \n",
    "with MNIST in TensorFlow\n",
    "MNIST dataset: yann.lecun.com/exdb/mnist/\n",
    "Author: Chip Huyen\n",
    "Prepared for the class CS 20SI: \"TensorFlow for Deep Learning Research\"\n",
    "cs20si.stanford.edu\n",
    "\"\"\"\n",
    "import os\n",
    "os.environ['TF_CPP_MIN_LOG_LEVEL']='2'\n",
    "\n",
    "import numpy as np\n",
    "import tensorflow as tf\n",
    "from tensorflow.examples.tutorials.mnist import input_data\n",
    "import time\n",
    "\n",
    "# Define paramaters for the model\n",
    "learning_rate = 0.01\n",
    "batch_size = 128\n",
    "n_epochs = 30\n",
    "\n",
    "# Step 1: Read in data\n",
    "# using TF Learn's built in function to load MNIST data to the folder data/mnist\n",
    "mnist = input_data.read_data_sets('mnist', one_hot=True)"
   ]
  },
  {
   "cell_type": "code",
   "execution_count": 24,
   "metadata": {},
   "outputs": [],
   "source": [
    "# Step 2: create placeholders for features and labels\n",
    "# each image in the MNIST data is of shape 28*28 = 784\n",
    "# therefore, each image is represented with a 1x784 tensor\n",
    "# there are 10 classes for each image, corresponding to digits 0 - 9. \n",
    "# each lable is one hot vector.\n",
    "X = tf.placeholder(tf.float32, [batch_size, 784], name='X_placeholder') \n",
    "Y = tf.placeholder(tf.int32, [batch_size, 10], name='Y_placeholder')\n",
    "\n",
    "# Step 3: create weights and bias\n",
    "# w is initialized to random variables with mean of 0, stddev of 0.01\n",
    "# b is initialized to 0\n",
    "# shape of w depends on the dimension of X and Y so that Y = tf.matmul(X, w)\n",
    "# shape of b depends on Y\n",
    "w = tf.Variable(tf.random_normal(shape=[784, 10], stddev=0.01), name='weights')\n",
    "b = tf.Variable(tf.zeros([1, 10]), name=\"bias\")\n",
    "\n",
    "# Step 4: build model\n",
    "# the model that returns the logits.\n",
    "# this logits will be later passed through softmax layer\n",
    "logits = tf.matmul(X, w) + b \n",
    "\n",
    "# Step 5: define loss function\n",
    "# use cross entropy of softmax of logits as the loss function\n",
    "entropy = tf.nn.softmax_cross_entropy_with_logits(logits=logits, labels=Y, name='loss')\n",
    "loss = tf.reduce_mean(entropy) # computes the mean over all the examples in the batch\n",
    "\n",
    "# Step 6: define training op\n",
    "# using gradient descent with learning rate of 0.01 to minimize loss\n",
    "optimizer = tf.train.AdamOptimizer(learning_rate).minimize(loss)"
   ]
  },
  {
   "cell_type": "code",
   "execution_count": 25,
   "metadata": {},
   "outputs": [
    {
     "name": "stdout",
     "output_type": "stream",
     "text": [
      "Average loss epoch 0: 0.368925113882\n"
     ]
    },
    {
     "name": "stdout",
     "output_type": "stream",
     "text": [
      "Average loss epoch 1: 0.296004552941\n"
     ]
    },
    {
     "name": "stdout",
     "output_type": "stream",
     "text": [
      "Average loss epoch 2: 0.285065905962\n"
     ]
    },
    {
     "name": "stdout",
     "output_type": "stream",
     "text": [
      "Average loss epoch 3: 0.278323887372\n"
     ]
    },
    {
     "name": "stdout",
     "output_type": "stream",
     "text": [
      "Average loss epoch 4: 0.272531557125\n"
     ]
    },
    {
     "name": "stdout",
     "output_type": "stream",
     "text": [
      "Average loss epoch 5: 0.274326382122\n"
     ]
    },
    {
     "name": "stdout",
     "output_type": "stream",
     "text": [
      "Average loss epoch 6: 0.267232034364\n"
     ]
    },
    {
     "name": "stdout",
     "output_type": "stream",
     "text": [
      "Average loss epoch 7: 0.267660491603\n"
     ]
    },
    {
     "name": "stdout",
     "output_type": "stream",
     "text": [
      "Average loss epoch 8: 0.264160065002\n"
     ]
    },
    {
     "name": "stdout",
     "output_type": "stream",
     "text": [
      "Average loss epoch 9: 0.26686498099\n"
     ]
    },
    {
     "name": "stdout",
     "output_type": "stream",
     "text": [
      "Average loss epoch 10: 0.265959430651\n"
     ]
    },
    {
     "name": "stdout",
     "output_type": "stream",
     "text": [
      "Average loss epoch 11: 0.261297412599\n"
     ]
    },
    {
     "name": "stdout",
     "output_type": "stream",
     "text": [
      "Average loss epoch 12: 0.262329736894\n"
     ]
    },
    {
     "name": "stdout",
     "output_type": "stream",
     "text": [
      "Average loss epoch 13: 0.261381448201\n"
     ]
    },
    {
     "name": "stdout",
     "output_type": "stream",
     "text": [
      "Average loss epoch 14: 0.258157572633\n"
     ]
    },
    {
     "name": "stdout",
     "output_type": "stream",
     "text": [
      "Average loss epoch 15: 0.259896231507\n"
     ]
    },
    {
     "name": "stdout",
     "output_type": "stream",
     "text": [
      "Average loss epoch 16: 0.26062720711\n"
     ]
    },
    {
     "name": "stdout",
     "output_type": "stream",
     "text": [
      "Average loss epoch 17: 0.258887436441\n"
     ]
    },
    {
     "name": "stdout",
     "output_type": "stream",
     "text": [
      "Average loss epoch 18: 0.257863994054\n"
     ]
    },
    {
     "name": "stdout",
     "output_type": "stream",
     "text": [
      "Average loss epoch 19: 0.257250513317\n"
     ]
    },
    {
     "name": "stdout",
     "output_type": "stream",
     "text": [
      "Average loss epoch 20: 0.254573019686\n"
     ]
    },
    {
     "name": "stdout",
     "output_type": "stream",
     "text": [
      "Average loss epoch 21: 0.255535919853\n"
     ]
    },
    {
     "name": "stdout",
     "output_type": "stream",
     "text": [
      "Average loss epoch 22: 0.256477896315\n"
     ]
    },
    {
     "name": "stdout",
     "output_type": "stream",
     "text": [
      "Average loss epoch 23: 0.25485866456\n"
     ]
    },
    {
     "name": "stdout",
     "output_type": "stream",
     "text": [
      "Average loss epoch 24: 0.254356767869\n"
     ]
    },
    {
     "name": "stdout",
     "output_type": "stream",
     "text": [
      "Average loss epoch 25: 0.251817209251\n"
     ]
    },
    {
     "name": "stdout",
     "output_type": "stream",
     "text": [
      "Average loss epoch 26: 0.252699480016\n"
     ]
    },
    {
     "name": "stdout",
     "output_type": "stream",
     "text": [
      "Average loss epoch 27: 0.254178118369\n"
     ]
    },
    {
     "name": "stdout",
     "output_type": "stream",
     "text": [
      "Average loss epoch 28: 0.254197322978\n"
     ]
    },
    {
     "name": "stdout",
     "output_type": "stream",
     "text": [
      "Average loss epoch 29: 0.250872513857\nTotal time: 15.6594829559 seconds\nOptimization Finished!\n"
     ]
    },
    {
     "ename": "TypeError",
     "evalue": "unsupported operand type(s) for +=: 'int' and 'list'",
     "traceback": [
      "\u001b[0;31m---------------------------------------------------------------------------\u001b[0m",
      "\u001b[0;31mTypeError\u001b[0m                                 Traceback (most recent call last)",
      "\u001b[0;32m<ipython-input-25-9900762c44b1>\u001b[0m in \u001b[0;36m<module>\u001b[0;34m()\u001b[0m\n\u001b[1;32m     31\u001b[0m                 \u001b[0mX_batch\u001b[0m\u001b[0;34m,\u001b[0m \u001b[0mY_batch\u001b[0m \u001b[0;34m=\u001b[0m \u001b[0mmnist\u001b[0m\u001b[0;34m.\u001b[0m\u001b[0mtest\u001b[0m\u001b[0;34m.\u001b[0m\u001b[0mnext_batch\u001b[0m\u001b[0;34m(\u001b[0m\u001b[0mbatch_size\u001b[0m\u001b[0;34m)\u001b[0m\u001b[0;34m\u001b[0m\u001b[0m\n\u001b[1;32m     32\u001b[0m                 \u001b[0maccuracy_batch\u001b[0m \u001b[0;34m=\u001b[0m \u001b[0msess\u001b[0m\u001b[0;34m.\u001b[0m\u001b[0mrun\u001b[0m\u001b[0;34m(\u001b[0m\u001b[0;34m[\u001b[0m\u001b[0maccuracy\u001b[0m\u001b[0;34m]\u001b[0m\u001b[0;34m,\u001b[0m \u001b[0mfeed_dict\u001b[0m\u001b[0;34m=\u001b[0m\u001b[0;34m{\u001b[0m\u001b[0mX\u001b[0m\u001b[0;34m:\u001b[0m \u001b[0mX_batch\u001b[0m\u001b[0;34m,\u001b[0m \u001b[0mY\u001b[0m\u001b[0;34m:\u001b[0m\u001b[0mY_batch\u001b[0m\u001b[0;34m}\u001b[0m\u001b[0;34m)\u001b[0m\u001b[0;34m\u001b[0m\u001b[0m\n\u001b[0;32m---> 33\u001b[0;31m                 \u001b[0mtotal_correct_preds\u001b[0m \u001b[0;34m+=\u001b[0m \u001b[0maccuracy_batch\u001b[0m\u001b[0;34m\u001b[0m\u001b[0m\n\u001b[0m\u001b[1;32m     34\u001b[0m \u001b[0;34m\u001b[0m\u001b[0m\n\u001b[1;32m     35\u001b[0m         \u001b[0;32mprint\u001b[0m\u001b[0;34m(\u001b[0m\u001b[0;34m'Accuracy {0}'\u001b[0m\u001b[0;34m.\u001b[0m\u001b[0mformat\u001b[0m\u001b[0;34m(\u001b[0m\u001b[0mtotal_correct_preds\u001b[0m\u001b[0;34m/\u001b[0m\u001b[0mmnist\u001b[0m\u001b[0;34m.\u001b[0m\u001b[0mtest\u001b[0m\u001b[0;34m.\u001b[0m\u001b[0mnum_examples\u001b[0m\u001b[0;34m)\u001b[0m\u001b[0;34m)\u001b[0m\u001b[0;34m\u001b[0m\u001b[0m\n",
      "\u001b[0;31mTypeError\u001b[0m: unsupported operand type(s) for +=: 'int' and 'list'"
     ],
     "output_type": "error"
    }
   ],
   "source": [
    "with tf.Session() as sess:\n",
    "\t# to visualize using TensorBoard\n",
    "\twriter = tf.summary.FileWriter('mnist/graphs/logistic_reg', sess.graph)\n",
    "\n",
    "\tstart_time = time.time()\n",
    "\tsess.run(tf.global_variables_initializer())\t\n",
    "\tn_batches = int(mnist.train.num_examples/batch_size)\n",
    "\tfor i in range(n_epochs): # train the model n_epochs times\n",
    "\t\ttotal_loss = 0\n",
    "\n",
    "\t\tfor _ in range(n_batches):\n",
    "\t\t\tX_batch, Y_batch = mnist.train.next_batch(batch_size)\n",
    "\t\t\t_, loss_batch = sess.run([optimizer, loss], feed_dict={X: X_batch, Y:Y_batch}) \n",
    "\t\t\ttotal_loss += loss_batch\n",
    "\t\tprint('Average loss epoch {0}: {1}'.format(i, total_loss/n_batches))\n",
    "\n",
    "\tprint('Total time: {0} seconds'.format(time.time() - start_time))\n",
    "\n",
    "\tprint('Optimization Finished!') # should be around 0.35 after 25 epochs\n",
    "\n",
    "\t# test the model\n",
    "\t\n",
    "\tpreds = tf.nn.softmax(logits)\n",
    "\tcorrect_preds = tf.equal(tf.argmax(preds, 1), tf.argmax(Y, 1))\n",
    "\taccuracy = tf.reduce_sum(tf.cast(correct_preds, tf.float32)) # need numpy.count_nonzero(boolarr) :(\n",
    "\t\n",
    "\tn_batches = int(mnist.test.num_examples/batch_size)\n",
    "\ttotal_correct_preds = 0\n",
    "\t\n",
    "\tfor i in range(n_batches):\n",
    "\t\tX_batch, Y_batch = mnist.test.next_batch(batch_size)\n",
    "\t\taccuracy_batch = sess.run([accuracy], feed_dict={X: X_batch, Y:Y_batch}) \n",
    "\t\ttotal_correct_preds += accuracy_batch\t\n",
    "\t\n",
    "\tprint('Accuracy {0}'.format(total_correct_preds/mnist.test.num_examples))\n",
    "\n",
    "\twriter.close()"
   ]
  },
  {
   "cell_type": "code",
   "execution_count": 7,
   "metadata": {},
   "outputs": [],
   "source": [
    "import pandas as pd\n",
    "\n",
    "csv_dataset = pd.DataFrame.from_csv(\"dataset_middle.csv\", index_col=\"agent_id\")"
   ]
  },
  {
   "cell_type": "code",
   "execution_count": 13,
   "metadata": {},
   "outputs": [
    {
     "data": {
      "text/plain": [
       "['56654868cc6da11d6e8b4632',\n '54b3dbd6e76da1b0848b4616',\n '5691084d096ea1347b8b45a9',\n '5834232ec66c844d8c37ca7e',\n '54b3da24e56da1cb598b457f',\n '569106ca096ea1ae788b45f0',\n '5691068a096ea1ae788b45e2',\n '54b3da24e56da1cb598b457f',\n '5691084d096ea1347b8b45a9',\n '56654943cd6da1fa8d8b45a7',\n '58342361f1a12c63d05b4e58',\n '5665490de66da1cf978b456b',\n '5834223f348715172b606f88',\n '5834223f348715172b606f88',\n '54b3da24e56da1cb598b457f',\n '54b3d8dde56da1924e8b461e',\n '56654943cd6da1fa8d8b45a7',\n '5691080f096ea1c27b8b4581',\n '5691084d096ea1347b8b45a9',\n '54b3d8dde56da1924e8b461e',\n '566548abe56da1a9508b456a',\n '5834232ec66c844d8c37ca7e',\n '5665497acc6da1e0708b4604',\n '5834223f348715172b606f88',\n '54b3dbd6e76da1b0848b4616',\n '569107d3e66da141608b45ea',\n '54b3dbd6e76da1b0848b4616',\n '569106ca096ea1ae788b45f0',\n '56654868cc6da11d6e8b4632',\n '54b3db87cc6da132198b4598',\n '5834232ec66c844d8c37ca7e',\n '56654a3be56da1aa508b45a3',\n '5665497acc6da1e0708b4604',\n '5691080f096ea1c27b8b4581',\n '56910773e76da1269a8b45d7',\n '56654a3be56da1aa508b45a3',\n '5665497acc6da1e0708b4604',\n '54b3da24e56da1cb598b457f',\n '56654943cd6da1fa8d8b45a7',\n '5691084d096ea1347b8b45a9',\n '5691084d096ea1347b8b45a9',\n '54b3dbd6e76da1b0848b4616',\n '54b3db1ee66da1987c8b45e2',\n '56910773e76da1269a8b45d7',\n '54b3db1ee66da1987c8b45e2',\n '54b3db87cc6da132198b4598',\n '569106ca096ea1ae788b45f0',\n '56654868cc6da11d6e8b4632',\n '56910721cd6da1c1478b45fb',\n '569107d3e66da141608b45ea',\n '54b3da24e56da1cb598b457f',\n '566549fd0a6ea1823f8b4663',\n '5691068a096ea1ae788b45e2',\n '54b3dacacc6da1b3178b45d8',\n '54b3da82cd6da171648b4599',\n '56654868cc6da11d6e8b4632',\n '56910773e76da1269a8b45d7',\n '5834223f348715172b606f88',\n '566547f2e56da1f54b8b4662',\n '58342289c66c844d8c37ca5c',\n '56910608096ea1ae788b45d5',\n '56910721cd6da1c1478b45fb',\n '5665497acc6da1e0708b4604',\n '566549fd0a6ea1823f8b4663',\n '54b3dbd6e76da1b0848b4616',\n '58342289c66c844d8c37ca5c',\n '54b3d8dde56da1924e8b461e',\n '5665490de66da1cf978b456b',\n '5691080f096ea1c27b8b4581',\n '5691084d096ea1347b8b45a9',\n '54b3db1ee66da1987c8b45e2',\n '5665490de66da1cf978b456b',\n '56654868cc6da11d6e8b4632',\n '5665490de66da1cf978b456b',\n '5691084d096ea1347b8b45a9',\n '5691068a096ea1ae788b45e2',\n '54b3da82cd6da171648b4599',\n '566548abe56da1a9508b456a',\n '56654868cc6da11d6e8b4632',\n '54b3dbd6e76da1b0848b4616',\n '569107d3e66da141608b45ea',\n '58342289c66c844d8c37ca5c',\n '5665497acc6da1e0708b4604',\n '54b3db87cc6da132198b4598',\n '56910773e76da1269a8b45d7',\n '5691084d096ea1347b8b45a9',\n '54b3db1ee66da1987c8b45e2',\n '5665490de66da1cf978b456b',\n '5665497acc6da1e0708b4604',\n '54b3da24e56da1cb598b457f',\n '5834232ec66c844d8c37ca7e',\n '5834223f348715172b606f88',\n '54b3db1ee66da1987c8b45e2',\n '58342289c66c844d8c37ca5c',\n '56910721cd6da1c1478b45fb',\n '54b3db87cc6da132198b4598',\n '5665490de66da1cf978b456b',\n '569107d3e66da141608b45ea',\n '56654943cd6da1fa8d8b45a7',\n '583421c27867195112141d35',\n '5691080f096ea1c27b8b4581',\n '569106ca096ea1ae788b45f0',\n '58342361f1a12c63d05b4e58',\n '54b3da24e56da1cb598b457f',\n '54b3db1ee66da1987c8b45e2',\n '54b3dacacc6da1b3178b45d8',\n '5834232ec66c844d8c37ca7e',\n '5834232ec66c844d8c37ca7e',\n '56654868cc6da11d6e8b4632',\n '54b3dbd6e76da1b0848b4616',\n '54b3d8dde56da1924e8b461e',\n '56654943cd6da1fa8d8b45a7',\n '5691080f096ea1c27b8b4581',\n '54b3db1ee66da1987c8b45e2',\n '54b3dacacc6da1b3178b45d8',\n '56654943cd6da1fa8d8b45a7',\n '5665497acc6da1e0708b4604',\n '5665490de66da1cf978b456b',\n '5834223f348715172b606f88',\n '54b3db1ee66da1987c8b45e2',\n '5834232ec66c844d8c37ca7e',\n '583422c47867195112141d4c',\n '5834232ec66c844d8c37ca7e',\n '5691068a096ea1ae788b45e2',\n '56910608096ea1ae788b45d5',\n '56654943cd6da1fa8d8b45a7',\n '566548abe56da1a9508b456a',\n '56910721cd6da1c1478b45fb',\n '56654868cc6da11d6e8b4632',\n '54b3da24e56da1cb598b457f',\n '56910773e76da1269a8b45d7',\n '583422c47867195112141d4c',\n '56654943cd6da1fa8d8b45a7',\n '5834232ec66c844d8c37ca7e',\n '56910773e76da1269a8b45d7',\n '5691084d096ea1347b8b45a9',\n '566548abe56da1a9508b456a',\n '54b3dbd6e76da1b0848b4616',\n '56910773e76da1269a8b45d7',\n '56654943cd6da1fa8d8b45a7',\n '5665497acc6da1e0708b4604',\n '569106ca096ea1ae788b45f0',\n '58342289c66c844d8c37ca5c',\n '5665490de66da1cf978b456b',\n '54b3da24e56da1cb598b457f',\n '56910608096ea1ae788b45d5',\n '54b3dbd6e76da1b0848b4616',\n '58342289c66c844d8c37ca5c',\n '56910608096ea1ae788b45d5',\n '5691068a096ea1ae788b45e2',\n '566548abe56da1a9508b456a',\n '54b3da24e56da1cb598b457f',\n '56910608096ea1ae788b45d5',\n '569106ca096ea1ae788b45f0',\n '5834232ec66c844d8c37ca7e',\n '5691084d096ea1347b8b45a9',\n '583422c47867195112141d4c',\n '56910773e76da1269a8b45d7',\n '5691080f096ea1c27b8b4581',\n '58342361f1a12c63d05b4e58',\n '54b3dbd6e76da1b0848b4616',\n '569106ca096ea1ae788b45f0',\n '56654868cc6da11d6e8b4632',\n '5691080f096ea1c27b8b4581',\n '5691068a096ea1ae788b45e2',\n '566548abe56da1a9508b456a',\n '58342289c66c844d8c37ca5c',\n '569107d3e66da141608b45ea',\n '56910773e76da1269a8b45d7',\n '56910721cd6da1c1478b45fb',\n '54b3da82cd6da171648b4599',\n '569106ca096ea1ae788b45f0',\n '5665497acc6da1e0708b4604',\n '5691080f096ea1c27b8b4581',\n '56654868cc6da11d6e8b4632',\n '54b3da82cd6da171648b4599',\n '56910608096ea1ae788b45d5',\n '5665490de66da1cf978b456b',\n '5834223f348715172b606f88',\n '5691084d096ea1347b8b45a9',\n '5665497acc6da1e0708b4604',\n '54b3db1ee66da1987c8b45e2',\n '56654943cd6da1fa8d8b45a7',\n '56910608096ea1ae788b45d5',\n '569106ca096ea1ae788b45f0',\n '5691084d096ea1347b8b45a9',\n '56654a3be56da1aa508b45a3',\n '5834223f348715172b606f88',\n '569107d3e66da141608b45ea',\n '54b3d8dde56da1924e8b461e',\n '54b3d8dde56da1924e8b461e',\n '56910608096ea1ae788b45d5',\n '5834232ec66c844d8c37ca7e',\n '5691080f096ea1c27b8b4581',\n '5665497acc6da1e0708b4604',\n '56910773e76da1269a8b45d7',\n '569106ca096ea1ae788b45f0',\n '5665497acc6da1e0708b4604',\n '5691084d096ea1347b8b45a9',\n '54b3d8dde56da1924e8b461e',\n '54b3d8dde56da1924e8b461e',\n '56654868cc6da11d6e8b4632',\n '54b3da24e56da1cb598b457f',\n '5834232ec66c844d8c37ca7e',\n '5665497acc6da1e0708b4604',\n '566549fd0a6ea1823f8b4663',\n '56654a3be56da1aa508b45a3',\n '5834223f348715172b606f88',\n '54b3dbd6e76da1b0848b4616',\n '56654943cd6da1fa8d8b45a7',\n '54b3d8dde56da1924e8b461e',\n '5834223f348715172b606f88',\n '5691084d096ea1347b8b45a9',\n '56910608096ea1ae788b45d5',\n '54b3dbd6e76da1b0848b4616',\n '5834232ec66c844d8c37ca7e',\n '5665490de66da1cf978b456b',\n '56910608096ea1ae788b45d5',\n '5691084d096ea1347b8b45a9',\n '54b3dacacc6da1b3178b45d8',\n '54b3db1ee66da1987c8b45e2',\n '54b3d8dde56da1924e8b461e',\n '54b3dacacc6da1b3178b45d8',\n '5691084d096ea1347b8b45a9',\n '54b3dacacc6da1b3178b45d8',\n '54b3d8dde56da1924e8b461e',\n '54b3dacacc6da1b3178b45d8',\n '569106ca096ea1ae788b45f0',\n '56654943cd6da1fa8d8b45a7',\n '58342361f1a12c63d05b4e58',\n '54b3da24e56da1cb598b457f',\n '5834223f348715172b606f88',\n '56654943cd6da1fa8d8b45a7',\n '569106ca096ea1ae788b45f0',\n '58342289c66c844d8c37ca5c',\n '56910608096ea1ae788b45d5',\n '5691084d096ea1347b8b45a9',\n '56654943cd6da1fa8d8b45a7',\n '5834232ec66c844d8c37ca7e',\n '54b3db87cc6da132198b4598',\n '54b3db1ee66da1987c8b45e2',\n '5834223f348715172b606f88',\n '54b3d8dde56da1924e8b461e',\n '5691084d096ea1347b8b45a9',\n '569106ca096ea1ae788b45f0',\n '5665497acc6da1e0708b4604',\n '569106ca096ea1ae788b45f0',\n '569107d3e66da141608b45ea',\n '569106ca096ea1ae788b45f0',\n '56654868cc6da11d6e8b4632',\n '5691084d096ea1347b8b45a9',\n '5834232ec66c844d8c37ca7e',\n '54b3d8dde56da1924e8b461e',\n '569106ca096ea1ae788b45f0',\n '569107d3e66da141608b45ea',\n '56910721cd6da1c1478b45fb',\n '5691084d096ea1347b8b45a9',\n '5691084d096ea1347b8b45a9',\n '56910773e76da1269a8b45d7',\n '54b3da24e56da1cb598b457f',\n '56654a3be56da1aa508b45a3',\n '566548abe56da1a9508b456a',\n '54b3dacacc6da1b3178b45d8',\n '54b3db1ee66da1987c8b45e2',\n '56910608096ea1ae788b45d5',\n '56654868cc6da11d6e8b4632',\n '583422fef1a12c63d05b4e36',\n '5834223f348715172b606f88',\n '583422c47867195112141d4c',\n '54b3db1ee66da1987c8b45e2',\n '5691080f096ea1c27b8b4581',\n '54b3dbd6e76da1b0848b4616',\n '54b3db1ee66da1987c8b45e2',\n '56654943cd6da1fa8d8b45a7',\n '5834232ec66c844d8c37ca7e',\n '56654a3be56da1aa508b45a3',\n '5691084d096ea1347b8b45a9',\n '54b3dbd6e76da1b0848b4616',\n '56910608096ea1ae788b45d5',\n '54b3da24e56da1cb598b457f',\n '569106ca096ea1ae788b45f0',\n '56910608096ea1ae788b45d5',\n '5691080f096ea1c27b8b4581',\n '5691068a096ea1ae788b45e2',\n '54b3db87cc6da132198b4598',\n '54b3da24e56da1cb598b457f',\n '56654a3be56da1aa508b45a3',\n '54b3db1ee66da1987c8b45e2',\n '5691068a096ea1ae788b45e2',\n '569107d3e66da141608b45ea',\n '56654868cc6da11d6e8b4632',\n '56910608096ea1ae788b45d5',\n '56910773e76da1269a8b45d7',\n '5834223f348715172b606f88',\n '5691068a096ea1ae788b45e2',\n '5691068a096ea1ae788b45e2',\n '56910608096ea1ae788b45d5',\n '5691084d096ea1347b8b45a9',\n '5691080f096ea1c27b8b4581',\n '58342289c66c844d8c37ca5c',\n '569106ca096ea1ae788b45f0',\n '56910721cd6da1c1478b45fb',\n '5665490de66da1cf978b456b',\n '54b3db87cc6da132198b4598',\n '56654868cc6da11d6e8b4632',\n '54b3db87cc6da132198b4598',\n '54b3db1ee66da1987c8b45e2',\n '54b3dacacc6da1b3178b45d8',\n '54b3d8dde56da1924e8b461e',\n '54b3da82cd6da171648b4599',\n '54b3da24e56da1cb598b457f',\n '5691068a096ea1ae788b45e2',\n '5834223f348715172b606f88',\n '5665497acc6da1e0708b4604',\n '56910721cd6da1c1478b45fb',\n '5691084d096ea1347b8b45a9',\n '56654868cc6da11d6e8b4632',\n '569106ca096ea1ae788b45f0',\n '54b3dbd6e76da1b0848b4616',\n '5834232ec66c844d8c37ca7e',\n '5691068a096ea1ae788b45e2',\n '5834232ec66c844d8c37ca7e',\n '54b3db1ee66da1987c8b45e2',\n '54b3dbd6e76da1b0848b4616',\n '5834232ec66c844d8c37ca7e',\n '5691084d096ea1347b8b45a9',\n '54b3db87cc6da132198b4598',\n '54b3db1ee66da1987c8b45e2',\n '54b3da24e56da1cb598b457f',\n '58342361f1a12c63d05b4e58',\n '5834232ec66c844d8c37ca7e',\n '5834232ec66c844d8c37ca7e',\n '56910773e76da1269a8b45d7',\n '5665497acc6da1e0708b4604',\n '583422c47867195112141d4c',\n '58342289c66c844d8c37ca5c',\n '58342361f1a12c63d05b4e58',\n '56910608096ea1ae788b45d5',\n '56910773e76da1269a8b45d7',\n '566547f2e56da1f54b8b4662',\n '566548abe56da1a9508b456a',\n '5665497acc6da1e0708b4604',\n '566549fd0a6ea1823f8b4663',\n '56654868cc6da11d6e8b4632',\n '569107d3e66da141608b45ea',\n '56910773e76da1269a8b45d7',\n '5834223f348715172b606f88',\n '54b3da24e56da1cb598b457f',\n '56654943cd6da1fa8d8b45a7',\n '54b3da24e56da1cb598b457f',\n '5691080f096ea1c27b8b4581',\n '5834232ec66c844d8c37ca7e',\n '5691068a096ea1ae788b45e2',\n '58342289c66c844d8c37ca5c',\n '569106ca096ea1ae788b45f0',\n '569106ca096ea1ae788b45f0',\n '54b3db87cc6da132198b4598',\n '5691084d096ea1347b8b45a9',\n '54b3d8dde56da1924e8b461e',\n '58342361f1a12c63d05b4e58',\n '54b3db1ee66da1987c8b45e2',\n '5834232ec66c844d8c37ca7e',\n '5834232ec66c844d8c37ca7e',\n '56654868cc6da11d6e8b4632',\n '569106ca096ea1ae788b45f0',\n '566548abe56da1a9508b456a',\n '5665490de66da1cf978b456b',\n '5665490de66da1cf978b456b',\n '56910773e76da1269a8b45d7',\n '54b3d8dde56da1924e8b461e',\n '583422c47867195112141d4c',\n '56910608096ea1ae788b45d5',\n '54b3db87cc6da132198b4598',\n '58342289c66c844d8c37ca5c',\n '5834223f348715172b606f88',\n '5691068a096ea1ae788b45e2',\n '566547f2e56da1f54b8b4662',\n '5834232ec66c844d8c37ca7e',\n '5665490de66da1cf978b456b',\n '54b3da24e56da1cb598b457f',\n '5665490de66da1cf978b456b',\n '56654943cd6da1fa8d8b45a7',\n '54b3db1ee66da1987c8b45e2',\n '5834232ec66c844d8c37ca7e',\n '56654943cd6da1fa8d8b45a7',\n '54b3dbd6e76da1b0848b4616',\n '56910773e76da1269a8b45d7',\n '56654868cc6da11d6e8b4632',\n '54b3dbd6e76da1b0848b4616',\n '5691084d096ea1347b8b45a9',\n '5691084d096ea1347b8b45a9',\n '56654868cc6da11d6e8b4632',\n '56654868cc6da11d6e8b4632',\n '54b3d8dde56da1924e8b461e',\n '566549fd0a6ea1823f8b4663',\n '54b3dbd6e76da1b0848b4616',\n '5834223f348715172b606f88',\n '56654868cc6da11d6e8b4632',\n '54b3dbd6e76da1b0848b4616',\n '5834223f348715172b606f88',\n '56910773e76da1269a8b45d7',\n '56910773e76da1269a8b45d7',\n '54b3db1ee66da1987c8b45e2',\n '569106ca096ea1ae788b45f0',\n '5691080f096ea1c27b8b4581',\n '56654868cc6da11d6e8b4632',\n '5834232ec66c844d8c37ca7e',\n '54b3dbd6e76da1b0848b4616',\n '54b3db1ee66da1987c8b45e2',\n '54b3d8dde56da1924e8b461e',\n '5691080f096ea1c27b8b4581',\n '5834223f348715172b606f88',\n '5834232ec66c844d8c37ca7e',\n '583421c27867195112141d35',\n '5834232ec66c844d8c37ca7e',\n '56654868cc6da11d6e8b4632',\n '54b3dbd6e76da1b0848b4616',\n '5834232ec66c844d8c37ca7e',\n '54b3db1ee66da1987c8b45e2',\n '58342289c66c844d8c37ca5c',\n '54b3dbd6e76da1b0848b4616',\n '56910721cd6da1c1478b45fb',\n '5834223f348715172b606f88',\n '5691084d096ea1347b8b45a9',\n '5834232ec66c844d8c37ca7e',\n '56654943cd6da1fa8d8b45a7',\n '54b3da24e56da1cb598b457f',\n '583422c47867195112141d4c',\n '583422fef1a12c63d05b4e36',\n '5834232ec66c844d8c37ca7e',\n '569106ca096ea1ae788b45f0',\n '54b3db1ee66da1987c8b45e2',\n '5834232ec66c844d8c37ca7e',\n '54b3da24e56da1cb598b457f',\n '54b3da82cd6da171648b4599',\n '54b3da24e56da1cb598b457f',\n '54b3d8dde56da1924e8b461e',\n '56654868cc6da11d6e8b4632',\n '5834232ec66c844d8c37ca7e',\n '54b3d8dde56da1924e8b461e',\n '54b3db1ee66da1987c8b45e2',\n '56654868cc6da11d6e8b4632',\n '5691080f096ea1c27b8b4581',\n '5834232ec66c844d8c37ca7e',\n '5665497acc6da1e0708b4604',\n '56654868cc6da11d6e8b4632',\n '56654868cc6da11d6e8b4632',\n '56654868cc6da11d6e8b4632',\n '54b3dbd6e76da1b0848b4616',\n '56654943cd6da1fa8d8b45a7',\n '5834232ec66c844d8c37ca7e',\n '56910773e76da1269a8b45d7',\n '54b3d8dde56da1924e8b461e',\n '5691084d096ea1347b8b45a9',\n '56910608096ea1ae788b45d5',\n '56910608096ea1ae788b45d5',\n '54b3dacacc6da1b3178b45d8',\n '5834232ec66c844d8c37ca7e',\n '583422fef1a12c63d05b4e36',\n '56910773e76da1269a8b45d7',\n '5665497acc6da1e0708b4604',\n '5665490de66da1cf978b456b',\n '5691068a096ea1ae788b45e2',\n '56910608096ea1ae788b45d5',\n '54b3db87cc6da132198b4598',\n '5834223f348715172b606f88',\n '5834223f348715172b606f88',\n '5691068a096ea1ae788b45e2',\n '56654868cc6da11d6e8b4632',\n '58342289c66c844d8c37ca5c',\n '56654943cd6da1fa8d8b45a7',\n '5691068a096ea1ae788b45e2',\n '54b3dacacc6da1b3178b45d8',\n '5834223f348715172b606f88',\n '56654868cc6da11d6e8b4632',\n '5834223f348715172b606f88',\n '566548abe56da1a9508b456a',\n '5834223f348715172b606f88',\n '54b3dacacc6da1b3178b45d8',\n '583421c27867195112141d35',\n '5665497acc6da1e0708b4604',\n '56654a3be56da1aa508b45a3',\n '5834232ec66c844d8c37ca7e',\n '5834232ec66c844d8c37ca7e',\n '54b3db87cc6da132198b4598',\n '56910608096ea1ae788b45d5',\n '54b3db1ee66da1987c8b45e2',\n '58342289c66c844d8c37ca5c',\n '54b3da82cd6da171648b4599',\n '54b3dbd6e76da1b0848b4616',\n '583422fef1a12c63d05b4e36',\n '54b3d994cc6da144178b458b',\n '54b3db1ee66da1987c8b45e2',\n '569106ca096ea1ae788b45f0',\n '54b3dacacc6da1b3178b45d8',\n '583422fef1a12c63d05b4e36',\n '56910773e76da1269a8b45d7',\n '569106ca096ea1ae788b45f0',\n '54b3da82cd6da171648b4599',\n '56910608096ea1ae788b45d5',\n '56654a3be56da1aa508b45a3',\n '5834232ec66c844d8c37ca7e',\n '5665497acc6da1e0708b4604',\n '5834223f348715172b606f88',\n '56910773e76da1269a8b45d7',\n '56910608096ea1ae788b45d5',\n '566549fd0a6ea1823f8b4663',\n '56654868cc6da11d6e8b4632',\n '5691084d096ea1347b8b45a9',\n '5834232ec66c844d8c37ca7e',\n '5691080f096ea1c27b8b4581',\n '5665497acc6da1e0708b4604',\n '566548abe56da1a9508b456a',\n '54b3d8dde56da1924e8b461e',\n '54b3da24e56da1cb598b457f',\n '58342289c66c844d8c37ca5c',\n '583422fef1a12c63d05b4e36',\n '5691084d096ea1347b8b45a9',\n '58342289c66c844d8c37ca5c',\n '54b3dbd6e76da1b0848b4616',\n '54b3da24e56da1cb598b457f',\n '54b3db87cc6da132198b4598',\n '56910608096ea1ae788b45d5',\n '54b3dbd6e76da1b0848b4616',\n '5834232ec66c844d8c37ca7e',\n '54b3da24e56da1cb598b457f',\n '5834232ec66c844d8c37ca7e',\n '54b3dacacc6da1b3178b45d8',\n '54b3db1ee66da1987c8b45e2',\n '566549fd0a6ea1823f8b4663',\n '56654868cc6da11d6e8b4632',\n '5691068a096ea1ae788b45e2',\n '54b3d8dde56da1924e8b461e',\n '5834232ec66c844d8c37ca7e',\n '54b3d994cc6da144178b458b',\n '5834223f348715172b606f88',\n '58342289c66c844d8c37ca5c',\n '583422fef1a12c63d05b4e36',\n '569107d3e66da141608b45ea',\n '54b3da24e56da1cb598b457f',\n '58342289c66c844d8c37ca5c',\n '58342289c66c844d8c37ca5c',\n '56910773e76da1269a8b45d7',\n '569106ca096ea1ae788b45f0',\n '54b3db87cc6da132198b4598',\n '5691068a096ea1ae788b45e2',\n '56910773e76da1269a8b45d7',\n '5834223f348715172b606f88',\n '56654868cc6da11d6e8b4632',\n '566549fd0a6ea1823f8b4663',\n '569106ca096ea1ae788b45f0',\n '54b3da24e56da1cb598b457f',\n '54b3dbd6e76da1b0848b4616',\n '56910773e76da1269a8b45d7',\n '58342361f1a12c63d05b4e58',\n '56654943cd6da1fa8d8b45a7',\n '5834232ec66c844d8c37ca7e',\n '5834232ec66c844d8c37ca7e',\n '54b3db87cc6da132198b4598',\n '54b3da82cd6da171648b4599',\n '58342289c66c844d8c37ca5c',\n '54b3db87cc6da132198b4598',\n '5691084d096ea1347b8b45a9',\n '54b3db87cc6da132198b4598',\n '5665497acc6da1e0708b4604',\n '56910773e76da1269a8b45d7',\n '56654943cd6da1fa8d8b45a7',\n '5691084d096ea1347b8b45a9',\n '54b3da24e56da1cb598b457f',\n '56910721cd6da1c1478b45fb',\n '58342361f1a12c63d05b4e58',\n '54b3da24e56da1cb598b457f',\n '56654943cd6da1fa8d8b45a7',\n '54b3dacacc6da1b3178b45d8',\n '5665497acc6da1e0708b4604',\n '5834223f348715172b606f88',\n '5691084d096ea1347b8b45a9',\n '54b3dacacc6da1b3178b45d8',\n '54b3dbd6e76da1b0848b4616',\n '569107d3e66da141608b45ea',\n '58342289c66c844d8c37ca5c',\n '5691068a096ea1ae788b45e2',\n '54b3db87cc6da132198b4598',\n '5691068a096ea1ae788b45e2',\n '56654943cd6da1fa8d8b45a7',\n '56910773e76da1269a8b45d7',\n '54b3d994cc6da144178b458b',\n '54b3dbd6e76da1b0848b4616',\n '569107d3e66da141608b45ea',\n '5834232ec66c844d8c37ca7e',\n '566549fd0a6ea1823f8b4663',\n '56910608096ea1ae788b45d5',\n '5691068a096ea1ae788b45e2',\n '569106ca096ea1ae788b45f0',\n '5834232ec66c844d8c37ca7e',\n '5691068a096ea1ae788b45e2',\n '5834232ec66c844d8c37ca7e',\n '56654943cd6da1fa8d8b45a7',\n '56654943cd6da1fa8d8b45a7',\n '56654943cd6da1fa8d8b45a7',\n '569106ca096ea1ae788b45f0',\n '56910721cd6da1c1478b45fb',\n '5691084d096ea1347b8b45a9',\n '54b3da82cd6da171648b4599',\n '56654a3be56da1aa508b45a3',\n '569106ca096ea1ae788b45f0',\n '56910721cd6da1c1478b45fb',\n '5665497acc6da1e0708b4604',\n '56910608096ea1ae788b45d5',\n '566549fd0a6ea1823f8b4663',\n '5665497acc6da1e0708b4604',\n '56654868cc6da11d6e8b4632',\n '54b3db1ee66da1987c8b45e2',\n '54b3dbd6e76da1b0848b4616',\n '56654943cd6da1fa8d8b45a7',\n '5834232ec66c844d8c37ca7e',\n '56654943cd6da1fa8d8b45a7',\n '54b3db1ee66da1987c8b45e2',\n '56654868cc6da11d6e8b4632',\n '54b3db1ee66da1987c8b45e2',\n '56910721cd6da1c1478b45fb',\n '569107d3e66da141608b45ea',\n '58342289c66c844d8c37ca5c',\n '5834223f348715172b606f88',\n '56910608096ea1ae788b45d5',\n '5834232ec66c844d8c37ca7e',\n '569107d3e66da141608b45ea',\n '54b3db1ee66da1987c8b45e2',\n '583422c47867195112141d4c',\n '5665497acc6da1e0708b4604',\n '56654a3be56da1aa508b45a3',\n '54b3db87cc6da132198b4598',\n '54b3da24e56da1cb598b457f',\n '56654a3be56da1aa508b45a3',\n '5691084d096ea1347b8b45a9',\n '54b3d8dde56da1924e8b461e',\n '54b3da82cd6da171648b4599',\n '5691080f096ea1c27b8b4581',\n '5665490de66da1cf978b456b',\n '56910608096ea1ae788b45d5',\n '5665490de66da1cf978b456b',\n '58342361f1a12c63d05b4e58',\n '54b3dbd6e76da1b0848b4616',\n '56654868cc6da11d6e8b4632',\n '56910721cd6da1c1478b45fb',\n '54b3dbd6e76da1b0848b4616',\n '5665497acc6da1e0708b4604',\n '54b3db87cc6da132198b4598',\n '56910773e76da1269a8b45d7',\n '58342289c66c844d8c37ca5c',\n '5691080f096ea1c27b8b4581',\n '56654868cc6da11d6e8b4632',\n '56910608096ea1ae788b45d5',\n '566548abe56da1a9508b456a',\n '54b3dbd6e76da1b0848b4616',\n '54b3d8dde56da1924e8b461e',\n '5665497acc6da1e0708b4604',\n '56910608096ea1ae788b45d5',\n '566547f2e56da1f54b8b4662',\n '54b3db1ee66da1987c8b45e2',\n '56654943cd6da1fa8d8b45a7',\n '56910608096ea1ae788b45d5',\n '566548abe56da1a9508b456a',\n '56910721cd6da1c1478b45fb',\n '566548abe56da1a9508b456a',\n '56910608096ea1ae788b45d5',\n '56654868cc6da11d6e8b4632',\n '5665497acc6da1e0708b4604',\n '5834232ec66c844d8c37ca7e',\n '569106ca096ea1ae788b45f0',\n '58342289c66c844d8c37ca5c',\n '56910608096ea1ae788b45d5',\n '58342289c66c844d8c37ca5c',\n '583421c27867195112141d35',\n '54b3da82cd6da171648b4599',\n '5691084d096ea1347b8b45a9',\n '56910608096ea1ae788b45d5',\n '5691084d096ea1347b8b45a9',\n '54b3d8dde56da1924e8b461e',\n '54b3dbd6e76da1b0848b4616',\n '56910773e76da1269a8b45d7',\n '54b3dbd6e76da1b0848b4616',\n '54b3d8dde56da1924e8b461e',\n '583422c47867195112141d4c',\n '569107d3e66da141608b45ea',\n '56910721cd6da1c1478b45fb',\n '54b3db1ee66da1987c8b45e2',\n '54b3d994cc6da144178b458b',\n '5834223f348715172b606f88',\n '569107d3e66da141608b45ea',\n '5665497acc6da1e0708b4604',\n '56910608096ea1ae788b45d5',\n '583422c47867195112141d4c',\n '54b3da24e56da1cb598b457f',\n '56910608096ea1ae788b45d5',\n '54b3da24e56da1cb598b457f',\n '566549fd0a6ea1823f8b4663',\n '583422c47867195112141d4c',\n '54b3da24e56da1cb598b457f',\n '54b3db1ee66da1987c8b45e2',\n '56654943cd6da1fa8d8b45a7',\n '5665497acc6da1e0708b4604',\n '58342361f1a12c63d05b4e58',\n '5834232ec66c844d8c37ca7e',\n '56654943cd6da1fa8d8b45a7',\n '583421c27867195112141d35',\n '569106ca096ea1ae788b45f0',\n '56654868cc6da11d6e8b4632',\n '56654a3be56da1aa508b45a3',\n '54b3da24e56da1cb598b457f',\n '56910721cd6da1c1478b45fb',\n '5691080f096ea1c27b8b4581',\n '58342289c66c844d8c37ca5c',\n '5665497acc6da1e0708b4604',\n '583421c27867195112141d35',\n '56654868cc6da11d6e8b4632',\n '5691068a096ea1ae788b45e2',\n '5834232ec66c844d8c37ca7e',\n '56910773e76da1269a8b45d7',\n '56654943cd6da1fa8d8b45a7',\n '569107d3e66da141608b45ea',\n '5665497acc6da1e0708b4604',\n '54b3dbd6e76da1b0848b4616',\n '54b3db1ee66da1987c8b45e2',\n '58342289c66c844d8c37ca5c',\n '54b3d8dde56da1924e8b461e',\n '54b3db1ee66da1987c8b45e2',\n '58342289c66c844d8c37ca5c',\n '56654a3be56da1aa508b45a3',\n '54b3dacacc6da1b3178b45d8',\n '56910773e76da1269a8b45d7',\n '54b3db1ee66da1987c8b45e2',\n '56654a3be56da1aa508b45a3',\n '54b3db1ee66da1987c8b45e2',\n '56654868cc6da11d6e8b4632',\n '56910608096ea1ae788b45d5',\n '5665490de66da1cf978b456b',\n '56654868cc6da11d6e8b4632',\n '5834223f348715172b606f88',\n '54b3da24e56da1cb598b457f',\n '54b3db1ee66da1987c8b45e2',\n '56654943cd6da1fa8d8b45a7',\n '54b3da82cd6da171648b4599',\n '5691084d096ea1347b8b45a9',\n '54b3db1ee66da1987c8b45e2',\n '56654868cc6da11d6e8b4632',\n '56654943cd6da1fa8d8b45a7',\n '54b3da24e56da1cb598b457f',\n '5665497acc6da1e0708b4604',\n '54b3dbd6e76da1b0848b4616',\n '54b3dacacc6da1b3178b45d8',\n '56654868cc6da11d6e8b4632',\n '56654868cc6da11d6e8b4632',\n '54b3db87cc6da132198b4598',\n '56654943cd6da1fa8d8b45a7',\n '5665490de66da1cf978b456b',\n '54b3dbd6e76da1b0848b4616',\n '56654943cd6da1fa8d8b45a7',\n '54b3dacacc6da1b3178b45d8',\n '56654943cd6da1fa8d8b45a7',\n '56910773e76da1269a8b45d7',\n '583422c47867195112141d4c',\n '54b3d8dde56da1924e8b461e',\n '569106ca096ea1ae788b45f0',\n '54b3da24e56da1cb598b457f',\n '54b3db1ee66da1987c8b45e2',\n '54b3db1ee66da1987c8b45e2',\n '5665490de66da1cf978b456b',\n '5691084d096ea1347b8b45a9',\n '5834232ec66c844d8c37ca7e',\n '566549fd0a6ea1823f8b4663',\n '56654868cc6da11d6e8b4632',\n '5691084d096ea1347b8b45a9',\n '56654868cc6da11d6e8b4632',\n '5691068a096ea1ae788b45e2',\n '56910773e76da1269a8b45d7',\n '54b3dbd6e76da1b0848b4616',\n '56910721cd6da1c1478b45fb',\n '54b3d8dde56da1924e8b461e',\n '58342361f1a12c63d05b4e58',\n '5665490de66da1cf978b456b',\n '56910608096ea1ae788b45d5',\n '5691068a096ea1ae788b45e2',\n '5691068a096ea1ae788b45e2',\n '56654868cc6da11d6e8b4632',\n '5834223f348715172b606f88',\n '583421c27867195112141d35',\n '56910773e76da1269a8b45d7',\n '566547f2e56da1f54b8b4662',\n '569106ca096ea1ae788b45f0',\n '56654868cc6da11d6e8b4632',\n '56654868cc6da11d6e8b4632',\n '569106ca096ea1ae788b45f0',\n '56654a3be56da1aa508b45a3',\n '5691080f096ea1c27b8b4581',\n '5834232ec66c844d8c37ca7e',\n '5665490de66da1cf978b456b',\n '5691084d096ea1347b8b45a9',\n '54b3db1ee66da1987c8b45e2',\n '569106ca096ea1ae788b45f0',\n '54b3dacacc6da1b3178b45d8',\n '5834223f348715172b606f88',\n '5691084d096ea1347b8b45a9',\n '583422c47867195112141d4c',\n '56910608096ea1ae788b45d5',\n '5691068a096ea1ae788b45e2',\n '54b3da24e56da1cb598b457f',\n '56654868cc6da11d6e8b4632',\n '566547f2e56da1f54b8b4662',\n '583422c47867195112141d4c',\n '569106ca096ea1ae788b45f0',\n '5834223f348715172b606f88',\n '54b3db1ee66da1987c8b45e2',\n '56654943cd6da1fa8d8b45a7',\n '583422c47867195112141d4c',\n '56910608096ea1ae788b45d5',\n '56910773e76da1269a8b45d7',\n '54b3da82cd6da171648b4599',\n '54b3da24e56da1cb598b457f',\n '5665497acc6da1e0708b4604',\n '5691084d096ea1347b8b45a9',\n '56910608096ea1ae788b45d5',\n '569106ca096ea1ae788b45f0',\n '56910608096ea1ae788b45d5',\n '56654868cc6da11d6e8b4632',\n '54b3db87cc6da132198b4598',\n '56910773e76da1269a8b45d7',\n '5834232ec66c844d8c37ca7e',\n '54b3d8dde56da1924e8b461e',\n '56910721cd6da1c1478b45fb',\n '569107d3e66da141608b45ea',\n '56910721cd6da1c1478b45fb',\n '5691080f096ea1c27b8b4581',\n '56654943cd6da1fa8d8b45a7',\n '54b3db1ee66da1987c8b45e2',\n '56654a3be56da1aa508b45a3',\n '54b3dbd6e76da1b0848b4616',\n '5691084d096ea1347b8b45a9',\n '54b3db1ee66da1987c8b45e2',\n '583422fef1a12c63d05b4e36',\n '5834232ec66c844d8c37ca7e',\n '5665497acc6da1e0708b4604',\n '56654868cc6da11d6e8b4632',\n '5834223f348715172b606f88',\n '5834232ec66c844d8c37ca7e',\n '5834232ec66c844d8c37ca7e',\n '54b3da24e56da1cb598b457f',\n '56654943cd6da1fa8d8b45a7',\n '583422fef1a12c63d05b4e36',\n '56910608096ea1ae788b45d5',\n '56654943cd6da1fa8d8b45a7',\n '56910773e76da1269a8b45d7',\n '56910773e76da1269a8b45d7',\n '54b3da82cd6da171648b4599',\n '5665497acc6da1e0708b4604',\n '569106ca096ea1ae788b45f0',\n '54b3da24e56da1cb598b457f',\n '566548abe56da1a9508b456a',\n '58342289c66c844d8c37ca5c',\n '566548abe56da1a9508b456a',\n '56654868cc6da11d6e8b4632',\n '54b3db1ee66da1987c8b45e2',\n '54b3da24e56da1cb598b457f',\n '56910608096ea1ae788b45d5',\n '56654943cd6da1fa8d8b45a7',\n '54b3dbd6e76da1b0848b4616',\n '56910608096ea1ae788b45d5',\n '54b3da24e56da1cb598b457f',\n '54b3da24e56da1cb598b457f',\n '569106ca096ea1ae788b45f0',\n '56910773e76da1269a8b45d7',\n '5665497acc6da1e0708b4604',\n '5691080f096ea1c27b8b4581',\n '5665490de66da1cf978b456b',\n '54b3d8dde56da1924e8b461e',\n '5834223f348715172b606f88',\n '583422fef1a12c63d05b4e36',\n '54b3da24e56da1cb598b457f',\n '56910608096ea1ae788b45d5',\n '5834223f348715172b606f88',\n '56654943cd6da1fa8d8b45a7',\n '58342289c66c844d8c37ca5c',\n '569106ca096ea1ae788b45f0',\n '54b3da24e56da1cb598b457f',\n '56910773e76da1269a8b45d7',\n '58342289c66c844d8c37ca5c',\n '56654868cc6da11d6e8b4632',\n '56654868cc6da11d6e8b4632',\n '5691068a096ea1ae788b45e2',\n '5834232ec66c844d8c37ca7e',\n '566548abe56da1a9508b456a',\n '54b3db1ee66da1987c8b45e2',\n '56654943cd6da1fa8d8b45a7',\n '56910608096ea1ae788b45d5',\n '54b3db1ee66da1987c8b45e2',\n '56910608096ea1ae788b45d5',\n '5691080f096ea1c27b8b4581',\n '56910773e76da1269a8b45d7',\n '5691084d096ea1347b8b45a9',\n '5665490de66da1cf978b456b',\n '56654943cd6da1fa8d8b45a7',\n '56910773e76da1269a8b45d7',\n '56910773e76da1269a8b45d7',\n '583421c27867195112141d35',\n '566548abe56da1a9508b456a',\n '56654868cc6da11d6e8b4632',\n '54b3dbd6e76da1b0848b4616',\n '54b3dbd6e76da1b0848b4616',\n '54b3d8dde56da1924e8b461e',\n '56910608096ea1ae788b45d5',\n '5691080f096ea1c27b8b4581',\n '56654868cc6da11d6e8b4632',\n '56654868cc6da11d6e8b4632',\n '56654943cd6da1fa8d8b45a7',\n '56910773e76da1269a8b45d7',\n '566548abe56da1a9508b456a',\n '58342289c66c844d8c37ca5c',\n '583422fef1a12c63d05b4e36',\n '54b3dacacc6da1b3178b45d8',\n '56654868cc6da11d6e8b4632',\n '5691084d096ea1347b8b45a9',\n '5834232ec66c844d8c37ca7e',\n '54b3da24e56da1cb598b457f',\n '56910608096ea1ae788b45d5',\n '56910721cd6da1c1478b45fb',\n '58342289c66c844d8c37ca5c',\n '5665490de66da1cf978b456b',\n '56910721cd6da1c1478b45fb',\n '5665497acc6da1e0708b4604',\n '5665490de66da1cf978b456b',\n '56910721cd6da1c1478b45fb',\n '5665497acc6da1e0708b4604',\n '54b3da24e56da1cb598b457f',\n '5691080f096ea1c27b8b4581',\n '56910608096ea1ae788b45d5',\n '56910721cd6da1c1478b45fb',\n '54b3da82cd6da171648b4599',\n '58342289c66c844d8c37ca5c',\n '58342289c66c844d8c37ca5c',\n '5834232ec66c844d8c37ca7e',\n '54b3dacacc6da1b3178b45d8',\n '56654943cd6da1fa8d8b45a7',\n '5691068a096ea1ae788b45e2',\n '5691084d096ea1347b8b45a9',\n '56654a3be56da1aa508b45a3',\n '54b3da82cd6da171648b4599',\n '56654868cc6da11d6e8b4632',\n '54b3db1ee66da1987c8b45e2',\n '56910773e76da1269a8b45d7',\n '5834232ec66c844d8c37ca7e',\n '56654868cc6da11d6e8b4632',\n '54b3db1ee66da1987c8b45e2',\n '566549fd0a6ea1823f8b4663',\n '5834223f348715172b606f88',\n '5691084d096ea1347b8b45a9',\n '566549fd0a6ea1823f8b4663',\n '5691080f096ea1c27b8b4581',\n '56654943cd6da1fa8d8b45a7',\n '54b3db87cc6da132198b4598',\n '58342289c66c844d8c37ca5c',\n '5691084d096ea1347b8b45a9',\n '54b3da24e56da1cb598b457f',\n '5691068a096ea1ae788b45e2',\n '58342289c66c844d8c37ca5c',\n '54b3da82cd6da171648b4599',\n '56654868cc6da11d6e8b4632',\n '56654943cd6da1fa8d8b45a7',\n '56910773e76da1269a8b45d7',\n '54b3db1ee66da1987c8b45e2',\n '56910773e76da1269a8b45d7',\n '5665490de66da1cf978b456b',\n '54b3d8dde56da1924e8b461e',\n '5834232ec66c844d8c37ca7e',\n '5665490de66da1cf978b456b',\n '56654943cd6da1fa8d8b45a7',\n '5691068a096ea1ae788b45e2',\n '56654943cd6da1fa8d8b45a7',\n '5834223f348715172b606f88',\n '583422fef1a12c63d05b4e36',\n '56910608096ea1ae788b45d5',\n '569107d3e66da141608b45ea',\n '56910608096ea1ae788b45d5',\n '5691080f096ea1c27b8b4581',\n '583421c27867195112141d35',\n '5691084d096ea1347b8b45a9',\n '54b3dacacc6da1b3178b45d8',\n '54b3d994cc6da144178b458b',\n '58342289c66c844d8c37ca5c',\n '5691084d096ea1347b8b45a9',\n '56654943cd6da1fa8d8b45a7',\n '56910608096ea1ae788b45d5',\n '569106ca096ea1ae788b45f0',\n '56910773e76da1269a8b45d7',\n '5834232ec66c844d8c37ca7e',\n '54b3db1ee66da1987c8b45e2',\n '569106ca096ea1ae788b45f0',\n '5691084d096ea1347b8b45a9',\n '569106ca096ea1ae788b45f0',\n '54b3da82cd6da171648b4599',\n '56654868cc6da11d6e8b4632',\n ...]"
      ]
     },
     "execution_count": 13,
     "metadata": {},
     "output_type": "execute_result"
    }
   ],
   "source": [
    "agent_id = csv_dataset.index.tolist()\n",
    "agent_id"
   ]
  },
  {
   "cell_type": "code",
   "execution_count": null,
   "metadata": {},
   "outputs": [],
   "source": [
    ""
   ]
  }
 ],
 "metadata": {
  "kernelspec": {
   "display_name": "Python 2",
   "language": "python",
   "name": "python2"
  },
  "language_info": {
   "codemirror_mode": {
    "name": "ipython",
    "version": 2.0
   },
   "file_extension": ".py",
   "mimetype": "text/x-python",
   "name": "python",
   "nbconvert_exporter": "python",
   "pygments_lexer": "ipython2",
   "version": "2.7.6"
  }
 },
 "nbformat": 4,
 "nbformat_minor": 0
}